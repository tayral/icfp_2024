{
  "nbformat": 4,
  "nbformat_minor": 0,
  "metadata": {
    "colab": {
      "provenance": []
    },
    "kernelspec": {
      "name": "python3",
      "display_name": "Python 3"
    },
    "language_info": {
      "name": "python"
    }
  },
  "cells": [
    {
      "cell_type": "code",
      "execution_count": null,
      "metadata": {
        "id": "Kvp8EeCxWb39"
      },
      "outputs": [],
      "source": [
        "import numpy as np\n",
        "from time import time\n",
        "import matplotlib.pyplot as plt\n",
        "from tqdm import tqdm\n",
        "from scipy.optimize import curve_fit, minimize, dual_annealing\n",
        "from typing import List, Tuple"
      ]
    },
    {
      "cell_type": "code",
      "source": [
        "dict_gates = {\"H\": lambda args: np.array([[1, 1], [1,-1]], dtype = np.complex64) / np.sqrt(2),\n",
        "              \"X\": lambda args: np.array([[0, 1], [1, 0]], dtype = np.complex64),\n",
        "              \"Z\": lambda args: np.array([[1, 0], [0, -1]], dtype = np.complex64),\n",
        "              \"Y\": lambda args: np.array([[0, -1j], [1j, 0]], dtype = np.complex64),\n",
        "              \"CNOT\": lambda args: np.array([[1,0,0,0],[0,1,0,0],[0,0,0,1],[0,0,1,0]], dtype = np.complex64),\n",
        "              \"RX\": lambda theta: np.array([[np.cos(theta / 2), - 1j * np.sin(theta / 2)],[- 1j * np.sin(theta / 2), np.cos(theta / 2)]], dtype = np.complex64),\n",
        "              \"RY\": lambda theta: np.array([[np.cos(theta / 2), -np.sin(theta / 2)],[np.sin(theta / 2), np.cos(theta / 2)]], dtype = np.complex64),\n",
        "              \"RZ\": lambda theta: np.array([[np.exp(-1j * theta / 2), 0],[0, np.exp(1j * theta / 2)]], dtype = np.complex64),\n",
        "              \"CP\": lambda theta: np.array([[1, 0, 0, 0], [0, 1, 0, 0], [0, 0, 1, 0], [0, 0, 0, np.exp(1j * theta)]]),\n",
        "              \"SWAP\": lambda args: np.array([[1, 0, 0, 0], [0, 0, 1, 0], [0, 1, 0, 0], [0, 0, 0, 1]], dtype = np.complex64),\n",
        "              \"CZ\": lambda args: np.array([[1, 0, 0, 0], [0, 1, 0, 0], [0, 0, 1, 0], [0, 0, 0, -1]], dtype = np.complex64)}\n",
        "\n",
        "type_gate = {\"H\": 0, \"X\": 0, \"Y\": 0, \"Z\": 0, \"RX\": 0, \"RY\": 0, \"RZ\": 0, \"CNOT\": 1, \"CP\": 1, \"SWAP\": 1, \"CZ\": 1}\n",
        "letters_0 = [\"H\", \"X\", \"Y\", \"Z\", \"RX\", \"RY\", \"RZ\"]\n",
        "letters_1 = [\"CNOT\", \"CP\", \"SWAP\", \"CZ\"]\n",
        "letters = letters_0 + letters_1"
      ],
      "metadata": {
        "id": "Hhbj1USFWkGP"
      },
      "execution_count": null,
      "outputs": []
    },
    {
      "cell_type": "code",
      "source": [
        "relaxation = lambda p: [np.array([[1, 0],\n",
        "                                  [0, np.sqrt(1 - p)]], dtype = np.complex64),\n",
        "                       np.array([[0, np.sqrt(p)],\n",
        "                                  [0, 0]], dtype = np.complex64)]\n",
        "\n",
        "pure_dephasing = lambda p: [np.array([[np.sqrt(1 - p), 0],\n",
        "                        [0, np.sqrt(1 - p)]], dtype = np.complex64),\n",
        "                       np.array([[np.sqrt(p), 0],\n",
        "                        [0, -np.sqrt(p)]], dtype = np.complex64)]\n",
        "\n",
        "depolarizing = lambda p: [np.array([[np.sqrt(1 - p), 0],\n",
        "                        [0, np.sqrt(1 - p)]], dtype = np.complex64),\n",
        "                         np.array([[0, np.sqrt(p / 3)],\n",
        "                          [np.sqrt(p / 3), 0]], dtype = np.complex64),\n",
        "                         np.array([[0, -1j * np.sqrt(p / 3)],\n",
        "                          [1j * np.sqrt(p / 3), 0]], dtype = np.complex64),\n",
        "                         np.array([[np.sqrt(p / 3), 0],\n",
        "                        [0, -np.sqrt(p / 3)]], dtype = np.complex64)]\n",
        "\n",
        "bit_flip = lambda p: [np.array([[np.sqrt(1 - p), 0],\n",
        "                        [0, np.sqrt(1 - p)]], dtype = np.complex64),\n",
        "                       np.array([[0, np.sqrt(p)],\n",
        "                          [np.sqrt(p), 0]], dtype = np.complex64)]\n",
        "\n",
        "dict_noise = [relaxation, pure_dephasing, depolarizing, bit_flip]"
      ],
      "metadata": {
        "id": "axzxy-BCaW-U"
      },
      "execution_count": null,
      "outputs": []
    },
    {
      "cell_type": "code",
      "source": [
        "def trace(state):\n",
        "  \"\"\"\n",
        "  Need to redefine accurately the trace\n",
        "  \"\"\"\n",
        "  N = np.prod(state.shape)\n",
        "  nn = int(np.sqrt(N))\n",
        "  return np.trace(np.reshape(state, (nn, nn)))"
      ],
      "metadata": {
        "id": "Ue1s44l5_Sbu"
      },
      "execution_count": null,
      "outputs": []
    },
    {
      "cell_type": "code",
      "source": [
        "class StateVector:\n",
        "\n",
        "    def __init__(self, n_qubit: int):\n",
        "        \"\"\"\n",
        "        Initialize the state vector with the specified number of qubits.\n",
        "        \"\"\"\n",
        "        self.n = n_qubit\n",
        "        self.state = np.zeros(2**n_qubit, dtype=np.complex64)\n",
        "        self.state[0] = 1  # Initial state |0, 0, ..., 0>\n",
        "        self.state = np.reshape(self.state, (2,) * n_qubit)\n",
        "\n",
        "    def apply(self, gate_input: np.ndarray, qubits: List[int], noise: int):\n",
        "        \"\"\"\n",
        "        Apply the given gate to the specified qubits with optional noise.\n",
        "\n",
        "        Args:\n",
        "            gate_input (np.ndarray): The gate matrix.\n",
        "            qubits (List[int]): The qubits to apply the gate to.\n",
        "            noise (bool): Flag indicating whether to apply noise.\n",
        "\n",
        "        Raises:\n",
        "            ValueError: If the length of qubits is invalid or if gate_input dimensions are incorrect.\n",
        "        \"\"\"\n",
        "        m = len(qubits)\n",
        "        if m <= 0 or m > self.n // 2:\n",
        "            raise ValueError(\"Invalid number of qubits\")\n",
        "\n",
        "        M = int(2**m)\n",
        "        if noise == 0:\n",
        "          gate_Kraus = np.tensordot(gate_input, np.conj(gate_input), axes=0)\n",
        "        elif noise == 1:\n",
        "          gate_Kraus = sum(np.tensordot(g, np.conj(g), axes=0) for g in gate_input)\n",
        "        elif noise == 2:\n",
        "          gate_Kraus = np.tensordot(gate_input, np.eye(gate_input.shape[0]), axes=0)\n",
        "\n",
        "        if gate_Kraus.shape != (M, M, M, M):\n",
        "            raise ValueError(\"Invalid gate_input dimensions\")\n",
        "\n",
        "        self.state = np.moveaxis(self.state, qubits + [q + self.n // 2 for q in qubits], range(2 * m))\n",
        "        self.state = np.reshape(self.state, [M] + [M] + [2**(self.n - 2 * m)])\n",
        "        self.state = np.tensordot(gate_Kraus, self.state, axes=([1, 3], [0, 1]))  # Adjusted contraction\n",
        "        self.state = np.reshape(self.state, (2,) * self.n)\n",
        "        self.state = np.moveaxis(self.state, range(2 * m), qubits + [q + self.n // 2 for q in qubits])\n",
        "\n",
        "    def __repr__(self):\n",
        "      return str(self.state)\n",
        "\n",
        "    def copy(self):\n",
        "      state = StateVector(self.n)\n",
        "      state.state = self.state.copy()\n",
        "      return state"
      ],
      "metadata": {
        "id": "Zjf0YeHlWkIy"
      },
      "execution_count": null,
      "outputs": []
    },
    {
      "cell_type": "code",
      "source": [
        "class QuantumCircuit:\n",
        "\n",
        "  def __init__(self, n_qubit, list_gates = []): # allows to define a circuit by some initial list of gates\n",
        "\n",
        "    self.n = n_qubit\n",
        "    self.gates = list_gates\n",
        "\n",
        "  def simulate(self, p):\n",
        "    state = StateVector(2 * self.n) # 2 * n_qubits to simulate noise\n",
        "    time_stamp = time()\n",
        "    for gate, args, qubits in self.gates:\n",
        "      state.apply(dict_gates[gate](args), qubits, False)\n",
        "      for q in qubits:\n",
        "        idx = np.random.randint(len(dict_noise))\n",
        "        state.apply(dict_noise[0](p), [0], True)\n",
        "    return state, time() - time_stamp\n",
        "\n",
        "  def random_circuit(self, depth):\n",
        "    for i in range(depth):\n",
        "      for q in range(self.n):\n",
        "        its = np.random.choice([0, 1, 2])\n",
        "        if its == 0:\n",
        "          self.gates.append((\"RX\", np.random.uniform(low = 0, high = 2 * np.pi), [q]))\n",
        "        elif its == 1:\n",
        "          self.gates.append((\"RY\", np.random.uniform(low = 0, high = 2 * np.pi), [q]))\n",
        "        elif its == 2:\n",
        "          self.gates.append((\"RZ\", np.random.uniform(low = 0, high = 2 * np.pi), [q]))\n",
        "\n",
        "        if q < self.n - 1 and (q - i) % 2 == 0:\n",
        "          self.gates.append((\"CNOT\", None, [q, q+1]))\n",
        "\n",
        "  def H_wall(self):\n",
        "    for k in range(self.n):\n",
        "      self.gates.append((\"H\", None, [k]))\n",
        "\n",
        "  def compute_obs(self, H, p = 0.0, M_repeat = 0):\n",
        "    state = StateVector(2 * self.n)\n",
        "    for gate, args, qubits in self.gates:\n",
        "      state.apply(dict_gates[gate](args), qubits, 0)\n",
        "      for q in qubits:\n",
        "        for _ in range(M_repeat):  # zero-noise extrapolation\n",
        "          idx = np.random.randint(len(dict_noise))\n",
        "          state.apply(dict_noise[0](p), [q], 1)\n",
        "\n",
        "    res = 0\n",
        "\n",
        "    for i in range(len(H)):\n",
        "      state_copy = state.copy()\n",
        "      for gate, qubit in H[i][1]:\n",
        "        state_copy.apply(dict_gates[gate](None), [qubit], 2)\n",
        "        for _ in range(M_repeat):  # zero-noise extrapolation\n",
        "          idx = np.random.randint(len(dict_noise))\n",
        "          state.apply(dict_noise[0](p), [qubit], 1)\n",
        "\n",
        "      res += H[i][0] * np.vdot(state_copy.state, state.state)\n",
        "\n",
        "    return res\n",
        "\n",
        "  def vqe_circuit(self, theta):\n",
        "    depth = len(theta) // self.n\n",
        "    for idx in range(depth):\n",
        "      for q in range(self.n):\n",
        "        its = np.random.choice([0, 1, 2])\n",
        "        if its == 0:\n",
        "          self.gates.append((\"RX\", theta[self.n * idx + q], [q]))\n",
        "        elif its == 1:\n",
        "          self.gates.append((\"RY\", theta[self.n * idx + q], [q]))\n",
        "        elif its == 2:\n",
        "          self.gates.append((\"RZ\", theta[self.n * idx + q], [q]))\n",
        "\n",
        "        if q < self.n - 1 and (q - idx) % 2 == 0:\n",
        "          self.gates.append((\"CNOT\", None, [q, q+1]))\n"
      ],
      "metadata": {
        "id": "8eXP1FiIWkLo"
      },
      "execution_count": null,
      "outputs": []
    },
    {
      "cell_type": "code",
      "source": [
        "def heisenberg(n_spins):\n",
        "  H = []\n",
        "  for i in range(n_spins - 1):\n",
        "    H.append((1, [(\"X\", i), (\"X\", i + 1)]))\n",
        "    H.append((1, [(\"Y\", i), (\"Y\", i + 1)]))\n",
        "    H.append((1, [(\"Z\", i), (\"Z\", i + 1)]))\n",
        "    return H\n",
        "\n",
        "def add(theta, k, angle):\n",
        "  theta_res = theta.copy()\n",
        "  theta_res[k] += angle\n",
        "  return theta_res"
      ],
      "metadata": {
        "id": "vvvpSm7lgA7z"
      },
      "execution_count": null,
      "outputs": []
    },
    {
      "cell_type": "code",
      "source": [
        "def energy_heis(theta):\n",
        "  circuit = QuantumCircuit(n_spins)\n",
        "  circuit.vqe_circuit(theta)\n",
        "  return np.real(circuit.compute_obs(H_heis, p, M_repeat)) # energy is real\n",
        "\n",
        "def jac_energy_heis(theta):\n",
        "  dim = len(theta)\n",
        "  jac = np.zeros(dim)\n",
        "\n",
        "  for k in range(dim):\n",
        "    jac[k] = 0.5 * (energy_heis(add(theta, k, np.pi / 2)) - energy_heis(add(theta, k, -np.pi / 2)))\n",
        "\n",
        "  return jac"
      ],
      "metadata": {
        "id": "nxxKXbQMd2lz"
      },
      "execution_count": null,
      "outputs": []
    },
    {
      "cell_type": "markdown",
      "source": [
        "**Simple cases**"
      ],
      "metadata": {
        "id": "LtuoWOnj6z5G"
      }
    },
    {
      "cell_type": "code",
      "source": [
        "n_qubit = 1\n",
        "circuit = QuantumCircuit(n_qubit)\n",
        "print(\"Z measurement:\", circuit.compute_obs([(1, [(\"Z\", 0)])]))\n",
        "print(\"X measurement:\", circuit.compute_obs([(1, [(\"X\", 0)])]))"
      ],
      "metadata": {
        "colab": {
          "base_uri": "https://localhost:8080/"
        },
        "id": "5O1RPthd64at",
        "outputId": "1c6a6f20-b775-413b-f600-c09ee830df35"
      },
      "execution_count": null,
      "outputs": [
        {
          "output_type": "stream",
          "name": "stdout",
          "text": [
            "Z measurement: (1+0j)\n",
            "X measurement: 0j\n"
          ]
        }
      ]
    },
    {
      "cell_type": "code",
      "source": [
        "n_qubit = 1\n",
        "circuit = QuantumCircuit(n_qubit, [(\"X\", None, [0])])\n",
        "print(\"Z measurement:\", circuit.compute_obs([(1, [(\"Z\", 0)])]))\n",
        "print(\"X measurement:\", circuit.compute_obs([(1, [(\"X\", 0)])]))"
      ],
      "metadata": {
        "colab": {
          "base_uri": "https://localhost:8080/"
        },
        "id": "LdXJgsDj9HJi",
        "outputId": "30f0a54b-13a8-43e5-b515-4bdee09a4504"
      },
      "execution_count": null,
      "outputs": [
        {
          "output_type": "stream",
          "name": "stdout",
          "text": [
            "Z measurement: (-1+0j)\n",
            "X measurement: 0j\n"
          ]
        }
      ]
    },
    {
      "cell_type": "markdown",
      "source": [
        "**Hadamard gate**"
      ],
      "metadata": {
        "id": "Zp2Eb2C-ZPRx"
      }
    },
    {
      "cell_type": "code",
      "source": [
        "n_qubit = 1\n",
        "list_gates = [(\"H\", None, [0])]\n",
        "\n",
        "circuit = QuantumCircuit(n_qubit, list_gates)\n",
        "\n",
        "print(\"Z measurement:\", circuit.compute_obs([(1, [(\"Z\", 0)])]))\n",
        "print(\"X measurement:\", circuit.compute_obs([(1, [(\"X\", 0)])]))"
      ],
      "metadata": {
        "colab": {
          "base_uri": "https://localhost:8080/"
        },
        "id": "OKKgrdh8WkOX",
        "outputId": "74eedd32-db7c-4fd8-e2aa-98ae05e79c2d"
      },
      "execution_count": null,
      "outputs": [
        {
          "output_type": "stream",
          "name": "stdout",
          "text": [
            "Z measurement: 0j\n",
            "X measurement: (0.999999880790714+0j)\n"
          ]
        }
      ]
    },
    {
      "cell_type": "code",
      "source": [
        "n_qubit = 1\n",
        "list_gates = [(\"H\", None, [0]), (\"Z\", None, [0])]\n",
        "\n",
        "circuit = QuantumCircuit(n_qubit, list_gates)\n",
        "\n",
        "print(\"Z measurement:\", circuit.compute_obs([(1, [(\"Z\", 0)])]))\n",
        "print(\"X measurement:\", circuit.compute_obs([(1, [(\"X\", 0)])]))"
      ],
      "metadata": {
        "colab": {
          "base_uri": "https://localhost:8080/"
        },
        "id": "RvCAYvpDAVeq",
        "outputId": "de930387-d8dd-4076-e8d5-b1ea7af48945"
      },
      "execution_count": null,
      "outputs": [
        {
          "output_type": "stream",
          "name": "stdout",
          "text": [
            "Z measurement: 0j\n",
            "X measurement: (-0.999999880790714+0j)\n"
          ]
        }
      ]
    },
    {
      "cell_type": "code",
      "source": [
        "n_qubit = 1\n",
        "list_gates = [(\"H\", None, [0])]\n",
        "p = 0.1\n",
        "M_repeat = 1\n",
        "\n",
        "circuit = QuantumCircuit(n_qubit, list_gates)\n",
        "\n",
        "print(\"Z measurement:\", circuit.compute_obs([(1, [(\"Z\", 0)])], p, M_repeat))\n",
        "print(\"X measurement:\", circuit.compute_obs([(1, [(\"X\", 0)])], p, M_repeat))"
      ],
      "metadata": {
        "id": "lcNjlOIebVea",
        "colab": {
          "base_uri": "https://localhost:8080/"
        },
        "outputId": "b373b2fa-cc29-4484-c230-1ea80ab23b7e"
      },
      "execution_count": null,
      "outputs": [
        {
          "output_type": "stream",
          "name": "stdout",
          "text": [
            "Z measurement: (0.1449999588727966+0j)\n",
            "X measurement: (0.9243415780561683+0j)\n"
          ]
        }
      ]
    },
    {
      "cell_type": "markdown",
      "source": [
        "**Bell state**"
      ],
      "metadata": {
        "id": "jK-gP8fbbO8n"
      }
    },
    {
      "cell_type": "code",
      "source": [
        "n_qubit = 2\n",
        "list_gates = [(\"H\", None, [0]), (\"CNOT\", None, [0,1])]\n",
        "\n",
        "circuit = QuantumCircuit(n_qubit, list_gates)\n",
        "\n",
        "print(\"Z1 measurement:\", circuit.compute_obs([(1, [(\"Z\", 0)])]))\n",
        "print(\"ZZ measurement:\", circuit.compute_obs([(1, [(\"Z\", 0), (\"Z\", 1)])]))\n",
        "print(\"XX measurement:\", circuit.compute_obs([(1, [(\"X\", 0), (\"X\", 1)])]))"
      ],
      "metadata": {
        "id": "hMaaBXv4WkRy",
        "colab": {
          "base_uri": "https://localhost:8080/"
        },
        "outputId": "86e17fb4-0dba-472c-ee05-47f825981169"
      },
      "execution_count": null,
      "outputs": [
        {
          "output_type": "stream",
          "name": "stdout",
          "text": [
            "Z1 measurement: 0j\n",
            "ZZ measurement: (0.999999880790714+0j)\n",
            "XX measurement: (0.999999880790714+0j)\n"
          ]
        }
      ]
    },
    {
      "cell_type": "code",
      "source": [
        "n_qubit = 2\n",
        "list_gates = [(\"H\", None, [0]), (\"CNOT\", None, [0,1])]\n",
        "p = 0.1\n",
        "M_repeat = 1\n",
        "\n",
        "circuit = QuantumCircuit(n_qubit, list_gates)\n",
        "\n",
        "print(\"Z1 measurement:\", circuit.compute_obs([(1, [(\"Z\", 0)])], p, M_repeat))\n",
        "print(\"ZZ measurement:\", circuit.compute_obs([(1, [(\"Z\", 0), (\"Z\", 1)])], p, M_repeat))\n",
        "print(\"XX measurement:\", circuit.compute_obs([(1, [(\"X\", 0), (\"X\", 1)])], p, M_repeat))"
      ],
      "metadata": {
        "id": "n86-MexEcreq",
        "colab": {
          "base_uri": "https://localhost:8080/"
        },
        "outputId": "e1c0f9f3-8195-44c6-8a4c-2e7219a16ee5"
      },
      "execution_count": null,
      "outputs": [
        {
          "output_type": "stream",
          "name": "stdout",
          "text": [
            "Z1 measurement: (0.19178191299926167+0j)\n",
            "ZZ measurement: (0.7440399608685977+0j)\n",
            "XX measurement: (0.720871692236039+0j)\n"
          ]
        }
      ]
    },
    {
      "cell_type": "markdown",
      "source": [
        "**Singlet State**"
      ],
      "metadata": {
        "id": "lwQjh_WD8lFM"
      }
    },
    {
      "cell_type": "code",
      "source": [
        "n_spins = 2\n",
        "p = 0.0\n",
        "M_repeat = 0\n",
        "H_heis = heisenberg(n_spins)\n",
        "\n",
        "list_gates = [(\"H\", None, [0]), (\"CNOT\", None, [0,1]), (\"X\", None, [1])]\n",
        "circuit = QuantumCircuit(n_spins, list_gates)\n",
        "\n",
        "print(\"ZZ measurement:\", circuit.compute_obs([(1, [(\"Z\", 0), (\"Z\", 1)])], p, M_repeat))"
      ],
      "metadata": {
        "colab": {
          "base_uri": "https://localhost:8080/"
        },
        "id": "qg0e80v68oEM",
        "outputId": "f27126a2-7870-421b-ed99-1e607161d677"
      },
      "execution_count": null,
      "outputs": [
        {
          "output_type": "stream",
          "name": "stdout",
          "text": [
            "ZZ measurement: (-0.999999880790714+0j)\n"
          ]
        }
      ]
    },
    {
      "cell_type": "markdown",
      "source": [
        "**Heisenberg Hamiltonian**"
      ],
      "metadata": {
        "id": "G4tvHIkTg0mU"
      }
    },
    {
      "cell_type": "code",
      "source": [
        "n_spins = 2\n",
        "p = 0.0\n",
        "M_repeat = 0\n",
        "H_heis = heisenberg(n_spins)\n",
        "\n",
        "list_gates = [(\"H\", None, [0]), (\"CNOT\", None, [0,1]), (\"Z\", None, [1]), (\"X\", None, [1])]\n",
        "circuit = QuantumCircuit(n_spins, list_gates)\n",
        "print(np.real(circuit.compute_obs(H_heis, p, M_repeat)))"
      ],
      "metadata": {
        "colab": {
          "base_uri": "https://localhost:8080/"
        },
        "id": "RNdXrLS93-1n",
        "outputId": "6f4748ed-453a-4592-bba4-dc369f183be1"
      },
      "execution_count": null,
      "outputs": [
        {
          "output_type": "stream",
          "name": "stdout",
          "text": [
            "-2.999999642372142\n"
          ]
        }
      ]
    },
    {
      "cell_type": "code",
      "source": [
        "n_spins = 2\n",
        "depth = 1\n",
        "p = 0.0\n",
        "M_repeat = 0\n",
        "\n",
        "H_heis = heisenberg(n_spins)\n",
        "\n",
        "#res =  minimize(energy_heis, np.random.uniform(low = 0, high = 2 * np.pi, size = depth * n_spins), jac = jac_energy_heis, options = {\"disp\": True})\n",
        "res = dual_annealing(energy_heis, [[0, 2 * np.pi] for _ in range(depth * n_spins)], initial_temp=2, restart_temp_ratio = 0.01, maxfun = 1e3)\n",
        "energy_min, param = res.fun, res.x"
      ],
      "metadata": {
        "id": "gx5U9Ewdg5vd"
      },
      "execution_count": null,
      "outputs": []
    },
    {
      "cell_type": "code",
      "source": [
        "print(\"Estimation of the minimal energy:\", energy_min)"
      ],
      "metadata": {
        "id": "vYHNI-MeOv8g",
        "colab": {
          "base_uri": "https://localhost:8080/"
        },
        "outputId": "0efdee05-d3df-4109-ea4f-aa6cac13d8b3"
      },
      "execution_count": null,
      "outputs": [
        {
          "output_type": "stream",
          "name": "stdout",
          "text": [
            "Estimation of the minimal energy: -2.4801931022900883\n"
          ]
        }
      ]
    },
    {
      "cell_type": "markdown",
      "source": [
        "**Heisenberg Hamiltonian with Zero-Noise Extrapolation**"
      ],
      "metadata": {
        "id": "L4of3QZGqLFK"
      }
    },
    {
      "cell_type": "code",
      "source": [
        "n_spins = 2\n",
        "depth = 1\n",
        "p = 0.1\n",
        "H_heis = heisenberg(n_spins)"
      ],
      "metadata": {
        "id": "jUpfZ1QiqJdC"
      },
      "execution_count": null,
      "outputs": []
    },
    {
      "cell_type": "code",
      "source": [
        "m_r = np.arange(1, 5)\n",
        "energy_min = np.zeros(len(m_r))\n",
        "\n",
        "for i in tqdm(range(len(m_r))):\n",
        "  M_repeat = m_r[i]\n",
        "  #res =  minimize(energy_heis, np.random.uniform(low = 0, high = 2 * np.pi, size = depth * n_spins), jac = jac_energy_heis, options = {\"maxiter\": 10000, \"disp\": True})\n",
        "  res = dual_annealing(energy_heis, [[0, 2 * np.pi] for _ in range(depth * n_spins)], initial_temp=2, restart_temp_ratio = 0.01, maxfun = 1e3)\n",
        "  energy_min[i] = res.fun"
      ],
      "metadata": {
        "colab": {
          "base_uri": "https://localhost:8080/"
        },
        "id": "KzbwllfVqoxq",
        "outputId": "408fd5b9-1bd2-4348-80db-e6c1f33683c9"
      },
      "execution_count": null,
      "outputs": [
        {
          "output_type": "stream",
          "name": "stderr",
          "text": [
            "100%|██████████| 4/4 [5:47:41<00:00, 5215.35s/it]\n"
          ]
        }
      ]
    },
    {
      "cell_type": "code",
      "source": [
        "plt.plot(m_r, energy_min, 'o-')\n",
        "plt.title(\"Estimated minimum energy as a function of m\")"
      ],
      "metadata": {
        "colab": {
          "base_uri": "https://localhost:8080/",
          "height": 469
        },
        "id": "lCp_5nG5rGXO",
        "outputId": "4575f04c-fb41-4d2c-ce16-10474531df8e"
      },
      "execution_count": null,
      "outputs": [
        {
          "output_type": "execute_result",
          "data": {
            "text/plain": [
              "Text(0.5, 1.0, 'Estimated minimum energy as a function of m')"
            ]
          },
          "metadata": {},
          "execution_count": 22
        },
        {
          "output_type": "display_data",
          "data": {
            "text/plain": [
              "<Figure size 640x480 with 1 Axes>"
            ],
            "image/png": "[encoded data removed]"
          },
          "metadata": {}
        }
      ]
    }
  ]
}