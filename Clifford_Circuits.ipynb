{
  "nbformat": 4,
  "nbformat_minor": 0,
  "metadata": {
    "colab": {
      "provenance": []
    },
    "kernelspec": {
      "name": "python3",
      "display_name": "Python 3"
    },
    "language_info": {
      "name": "python"
    }
  },
  "cells": [
    {
      "cell_type": "code",
      "execution_count": null,
      "metadata": {
        "id": "EgYL7JRREsAu"
      },
      "outputs": [],
      "source": [
        "import numpy as np"
      ]
    },
    {
      "cell_type": "code",
      "source": [
        "Pauli = [np.array([[1, 0], [0, 1]], dtype = np.complex64), # I\n",
        "         np.array([[0, 1], [1, 0]], dtype = np.complex64), # X\n",
        "         np.array([[0, -1j], [1j, 0]], dtype = np.complex64), # Y\n",
        "         np.array([[1, 0], [0, -1]], dtype = np.complex64)] # Z"
      ],
      "metadata": {
        "id": "cBhuN10Os7ON"
      },
      "execution_count": null,
      "outputs": []
    },
    {
      "cell_type": "code",
      "source": [
        "Pauli_names = [\"I\", \"X\", \"Y\", \"Z\"]"
      ],
      "metadata": {
        "id": "lO5XPi_TCKg_"
      },
      "execution_count": null,
      "outputs": []
    },
    {
      "cell_type": "code",
      "source": [
        "def Pauli_reversed(matrix):\n",
        "  for i in range(4):\n",
        "    if np.linalg.norm(matrix - Pauli[i]) < 1e-6:\n",
        "      return i, 0\n",
        "    elif np.linalg.norm(matrix + Pauli[i]) < 1e-6:\n",
        "      return i, 1"
      ],
      "metadata": {
        "id": "gfsTBUSQ8n2H"
      },
      "execution_count": null,
      "outputs": []
    },
    {
      "cell_type": "code",
      "source": [
        "Pauli2 = [[np.kron(Pauli[i], Pauli[j]) for j in range(4)] for i in range(4)]"
      ],
      "metadata": {
        "id": "zWFmJYElIa3R"
      },
      "execution_count": null,
      "outputs": []
    },
    {
      "cell_type": "code",
      "source": [
        "def Pauli2_reversed(matrix):\n",
        "  for i in range(4):\n",
        "    for j in range(4):\n",
        "      if np.linalg.norm(matrix - Pauli2[i][j]) < 1e-6:\n",
        "        return i, j, 0\n",
        "      elif np.linalg.norm(matrix + Pauli2[i][j]) < 1e-6:\n",
        "        return i, j, 1"
      ],
      "metadata": {
        "id": "WUbA5b2nIa9B"
      },
      "execution_count": null,
      "outputs": []
    },
    {
      "cell_type": "code",
      "source": [
        "Clifford = {\"H\": np.array([[1, 1], [1, -1]], dtype = np.complex64) / np.sqrt(2),\n",
        "            \"S\": np.array([[1, 0], [0, 1j]], dtype = np.complex64),\n",
        "            \"CNOT\": np.array([[1, 0, 0, 0], [0, 1, 0, 0], [0, 0, 0, 1], [0, 0, 1, 0]], dtype = np.complex64)}"
      ],
      "metadata": {
        "id": "5NhJHHp4tujx"
      },
      "execution_count": null,
      "outputs": []
    },
    {
      "cell_type": "code",
      "source": [
        "class Clifford_State:\n",
        "\n",
        "  def __init__(self, n_qubit):\n",
        "    self.n = n_qubit\n",
        "    self.state = np.array([[3 if j == i else 0 for j in range(self.n)] for i in range(self.n)]) # this is not the optimal representation, but it is still quadratic in n\n",
        "    self.sign = np.array([0]*self.n)\n",
        "\n",
        "  def apply(self, gate, qubits):\n",
        "\n",
        "    if len(qubits) == 1:\n",
        "      for q in range(self.n):\n",
        "        matrix = Clifford[gate] @ Pauli[self.state[q, qubits[0]]] @ np.conjugate(Clifford[gate]).T #np.conjugate compute complex conjugation elt-wise\n",
        "        self.state[q, qubits[0]], sign_addition = Pauli_reversed(matrix)\n",
        "        self.sign = (self.sign + sign_addition) % 2\n",
        "\n",
        "    elif len(qubits) == 2:\n",
        "      for q in range(self.n):\n",
        "        matrix = Clifford[gate] @ Pauli2[self.state[q, qubits[0]]][self.state[q, qubits[1]]] @ np.conjugate(Clifford[gate]).T\n",
        "        self.state[q, qubits[0]], self.state[q, qubits[1]], sign_addition = Pauli2_reversed(matrix)\n",
        "        self.sign = (self.sign + sign_addition) % 2\n",
        "\n",
        "  def __repr__(self):\n",
        "    text = \"\"\n",
        "    print(self.sign)\n",
        "\n",
        "    for i in range(self.n):\n",
        "      text += \"\\n\" + str(i) + \": \"\n",
        "\n",
        "      if self.sign[i] == 0:\n",
        "        text += \"+  \"\n",
        "      else:\n",
        "        text += \"-  \"\n",
        "      for j in range(self.n):\n",
        "\n",
        "        text += Pauli_names[self.state[i,j]] + \"  \"\n",
        "\n",
        "    return text"
      ],
      "metadata": {
        "id": "MOAu96eKs7QY"
      },
      "execution_count": null,
      "outputs": []
    },
    {
      "cell_type": "code",
      "source": [
        "class Clifford_Circuit:\n",
        "\n",
        "  def __init__(self, n_qubit):\n",
        "    self.n = n_qubit\n",
        "    self.gates = []\n",
        "\n",
        "  def add(self, gate, qubits):\n",
        "    self.gates.append((gate, qubits))\n",
        "\n",
        "  def simulate(self):\n",
        "    state = Clifford_State(self.n)\n",
        "    for gate, qubits in self.gates:\n",
        "      state.apply(gate, qubits)\n",
        "    return state"
      ],
      "metadata": {
        "id": "5PthVVXL-VaN"
      },
      "execution_count": null,
      "outputs": []
    },
    {
      "cell_type": "markdown",
      "source": [
        "**Test with One Qubit**"
      ],
      "metadata": {
        "id": "kBhzFPND-IwC"
      }
    },
    {
      "cell_type": "code",
      "source": [
        "circuit = Clifford_Circuit(1)\n",
        "circuit.add(\"H\", [0])\n",
        "state = circuit.simulate()\n",
        "state"
      ],
      "metadata": {
        "colab": {
          "base_uri": "https://localhost:8080/"
        },
        "id": "KhSitqaDs7Sv",
        "outputId": "6d997056-48f5-411f-dfd9-f1fc2de69b74"
      },
      "execution_count": null,
      "outputs": [
        {
          "output_type": "stream",
          "name": "stdout",
          "text": [
            "[0]\n"
          ]
        },
        {
          "output_type": "execute_result",
          "data": {
            "text/plain": [
              "\n",
              "0: +  X  "
            ]
          },
          "metadata": {},
          "execution_count": 10
        }
      ]
    },
    {
      "cell_type": "code",
      "source": [
        "circuit = Clifford_Circuit(1)\n",
        "circuit.add(\"S\", [0])\n",
        "state = circuit.simulate()\n",
        "state"
      ],
      "metadata": {
        "colab": {
          "base_uri": "https://localhost:8080/"
        },
        "id": "nz-aK5bHs7VP",
        "outputId": "d9fb8545-b980-4ca2-f2e7-2bae9e661254"
      },
      "execution_count": null,
      "outputs": [
        {
          "output_type": "stream",
          "name": "stdout",
          "text": [
            "[0]\n"
          ]
        },
        {
          "output_type": "execute_result",
          "data": {
            "text/plain": [
              "\n",
              "0: +  Z  "
            ]
          },
          "metadata": {},
          "execution_count": 11
        }
      ]
    },
    {
      "cell_type": "markdown",
      "source": [
        "**Test with Two Qubits**"
      ],
      "metadata": {
        "id": "_vpVdxQMI75G"
      }
    },
    {
      "cell_type": "code",
      "source": [
        "circuit = Clifford_Circuit(2)\n",
        "circuit.add(\"H\", [0])\n",
        "circuit.add(\"CNOT\", [0, 1])\n",
        "state = circuit.simulate()\n",
        "state"
      ],
      "metadata": {
        "colab": {
          "base_uri": "https://localhost:8080/"
        },
        "id": "LY5LKeK0s7Xl",
        "outputId": "fb779062-edfd-494b-f0b4-58737b5c9bfb"
      },
      "execution_count": null,
      "outputs": [
        {
          "output_type": "stream",
          "name": "stdout",
          "text": [
            "[0 0]\n"
          ]
        },
        {
          "output_type": "execute_result",
          "data": {
            "text/plain": [
              "\n",
              "0: +  X  X  \n",
              "1: +  Z  Z  "
            ]
          },
          "metadata": {},
          "execution_count": 12
        }
      ]
    }
  ]
}