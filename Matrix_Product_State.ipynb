{
  "nbformat": 4,
  "nbformat_minor": 0,
  "metadata": {
    "colab": {
      "provenance": []
    },
    "kernelspec": {
      "name": "python3",
      "display_name": "Python 3"
    },
    "language_info": {
      "name": "python"
    }
  },
  "cells": [
    {
      "cell_type": "code",
      "execution_count": 1,
      "metadata": {
        "id": "7jaq3z7YLrr7"
      },
      "outputs": [],
      "source": [
        "import numpy as np\n",
        "import matplotlib.pyplot as plt\n",
        "from tqdm import tqdm\n",
        "from time import time"
      ]
    },
    {
      "cell_type": "code",
      "source": [
        "dict_gates_one = {\"H\": lambda args: np.array([[1, 1], [1,-1]], dtype = np.complex64) / np.sqrt(2),\n",
        "              \"X\": lambda args: np.array([[0, 1], [1, 0]]),\n",
        "              \"Z\": lambda args: np.array([[1, 0], [0, -1]]),\n",
        "              \"RX\": lambda theta: np.array([[np.cos(theta / 2), - 1j * np.sin(theta / 2)],[- 1j * np.sin(theta / 2), np.cos(theta / 2)]], dtype = np.complex64),\n",
        "              \"RY\": lambda theta: np.array([[np.cos(theta / 2), -np.sin(theta / 2)],[np.sin(theta / 2), np.cos(theta / 2)]], dtype = np.complex64),\n",
        "              \"RZ\": lambda theta: np.array([[np.exp(-1j * theta / 2), 0],[0, np.exp(1j * theta / 2)]], dtype = np.complex64)}\n",
        "\n",
        "dict_gates_two = {\"CNOT\": lambda args: np.array([[1,0,0,0],[0,1,0,0],[0,0,0,1],[0,0,1,0]], dtype = np.complex64),\n",
        "                  \"CP\": lambda theta: np.array([[1, 0, 0, 0], [0, 1, 0, 0], [0, 0, 1, 0], [0, 0, 0, np.exp(1j * theta)]]),\n",
        "                  \"SWAP\": lambda args: np.array([[1, 0, 0, 0], [0, 0, 1, 0], [0, 1, 0, 0], [0, 0, 0, 1]]),\n",
        "                  \"CZ\": lambda args: np.array([[1, 0, 0, 0], [0, 1, 0, 0], [0, 0, 1, 0], [0, 0, 0, -1]])}\n",
        "\n",
        "type_gate = {\"H\": 0, \"X\": 0, \"Z\": 0, \"RX\": 0, \"RY\": 0, \"RZ\": 0, \"CNOT\": 1, \"CP\": 1, \"SWAP\": 1, \"CZ\": 1}"
      ],
      "metadata": {
        "id": "zYTHtbvPPxT9"
      },
      "execution_count": 2,
      "outputs": []
    },
    {
      "cell_type": "markdown",
      "source": [
        "**Auxiliary Functions**"
      ],
      "metadata": {
        "id": "2XaERLzdQPL3"
      }
    },
    {
      "cell_type": "code",
      "source": [
        "def fidelity(state_1, state_2):\n",
        "  state_1 = np.reshape(state_1, np.prod(state_1.shape))\n",
        "  state_2 = np.reshape(state_2, np.prod(state_2.shape))\n",
        "  return np.abs(np.vdot(state_1, state_2))**2\n",
        "\n",
        "def find_length(S, chi):\n",
        "  for i in range(np.min([chi, len(S)]) - 1, -1, -1):\n",
        "    if not np.allclose(S[i], 0, atol=1e-07):\n",
        "      return i + 1\n",
        "\n",
        "def displace(tensors, q, k):\n",
        "  if k != None and q > k:\n",
        "    for i in range(k, q):\n",
        "      list_shape_0 = tensors[i].shape\n",
        "      list_shape_1 = tensors[i+1].shape\n",
        "\n",
        "      common_state = np.tensordot(tensors[i], tensors[i+1], axes = (2, 0))\n",
        "      common_state = np.reshape(common_state, (list_shape_0[0] * list_shape_0[1], list_shape_1[1] * list_shape_1[2]))\n",
        "      tensors[i], tensors[i+1] = np.linalg.qr(common_state) # QR factorization\n",
        "      tensors[i] = np.reshape(tensors[i], (list_shape_0[0], list_shape_0[1], np.prod(tensors[i].shape) // list_shape_0[0] // list_shape_0[1]))\n",
        "      tensors[i+1] = np.reshape(tensors[i+1], (np.prod(tensors[i+1].shape) // list_shape_1[1] // list_shape_1[2], list_shape_1[1], list_shape_1[2]))\n",
        "\n",
        "\n",
        "  elif k != None and q < k:\n",
        "    for i in range(k, q, -1):\n",
        "      list_shape_0 = tensors[i-1].shape\n",
        "      list_shape_1 = tensors[i].shape\n",
        "\n",
        "\n",
        "      common_state = np.tensordot(tensors[i-1], tensors[i], axes = (2, 0))\n",
        "      common_state = np.transpose(np.reshape(common_state, (list_shape_0[0] * list_shape_0[1], list_shape_1[1] * list_shape_1[2])))\n",
        "      tensors[i], tensors[i-1] = np.linalg.qr(common_state) # QR factorization\n",
        "      tensors[i-1] = np.reshape(np.transpose(tensors[i-1]), (list_shape_0[0], list_shape_0[1], np.prod(tensors[i-1].shape) // list_shape_0[0] // list_shape_0[1]))\n",
        "      tensors[i] = np.reshape(np.transpose(tensors[i]), (np.prod(tensors[i].shape) // list_shape_1[1] // list_shape_1[2], list_shape_1[1], list_shape_1[2]))"
      ],
      "metadata": {
        "id": "3ldAJyn3ncct"
      },
      "execution_count": 3,
      "outputs": []
    },
    {
      "cell_type": "code",
      "source": [
        "class MPSState:\n",
        "\n",
        "  def __init__(self, n_qubit, chi_val):\n",
        "    self.n = n_qubit\n",
        "    self.chi = chi_val\n",
        "    self.tensors = []\n",
        "    self.k = None # index of the N\n",
        "    for i in range(n_qubit): # construction of the representation\n",
        "      if i == 0 and i == n_qubit - 1:\n",
        "        self.tensors.append(np.zeros((1, 2, 1), dtype = np.complex64))\n",
        "      elif i == 0:\n",
        "        self.tensors.append(np.zeros((1, 2, self.chi), dtype = np.complex64))\n",
        "      elif i == n_qubit - 1:\n",
        "        self.tensors.append(np.zeros((self.chi, 2, 1), dtype = np.complex64))\n",
        "      else:\n",
        "        self.tensors.append(np.zeros((self.chi, 2, self.chi), dtype = np.complex64))\n",
        "      self.tensors[i][0, 0, 0] = 1 # initialization\n",
        "\n",
        "  def apply_1(self, gate, args, qubit):\n",
        "    self.tensors[qubit] = np.tensordot(dict_gates_one[gate](args), self.tensors[qubit], axes = (1,1))\n",
        "    self.tensors[qubit] = np.moveaxis(self.tensors[qubit], (0, 1), (1, 0))\n",
        "\n",
        "\n",
        "  def apply_2(self, gate, args, qubit, flag): # act on (q, q + flag)\n",
        "    assert flag == 1 or flag == -1, \"Wrong value of flag\"\n",
        "    if flag == 1:\n",
        "      displace(self.tensors, qubit, self.k) # Change where is k\n",
        "    elif flag == -1:\n",
        "      displace(self.tensors, qubit - 1, self.k) # Change where is k\n",
        "    # a\n",
        "    if flag == 1:\n",
        "      T = np.tensordot(self.tensors[qubit], self.tensors[qubit + 1], axes = (2, 0))\n",
        "    if flag == -1:\n",
        "      T = np.tensordot(self.tensors[qubit - 1], self.tensors[qubit], axes = (2, 0))\n",
        "      T = np.moveaxis(T, (1,2), (2,1))\n",
        "    size_0, size_1 = T.shape[0], T.shape[-1] # to take care of the cases when  one of the qubits is on the edge\n",
        "    T = np.reshape(T, (size_0, 4, size_1))\n",
        "\n",
        "    # b\n",
        "    T = np.tensordot(dict_gates_two[gate](args), T, axes = (1,1))\n",
        "    T = np.moveaxis(T, (0,1),(1,0))\n",
        "    if flag == -1: # reverse the axis inversion\n",
        "      T = np.reshape(T, (size_0, 2, 2, size_1))\n",
        "      T = np.moveaxis(T, (1,2), (2,1))\n",
        "\n",
        "    # c\n",
        "    T = np.reshape(T, (size_0, 2,  2, size_1)) # split before reshaping\n",
        "    T = np.reshape(T, (2 * size_0, 2 * size_1))\n",
        "    U, S, Vh = np.linalg.svd(T, full_matrices=False)\n",
        "\n",
        "    # d: truncation\n",
        "    length = find_length(S,self.chi)\n",
        "    S = S[:length] / np.linalg.norm(S[:length])\n",
        "    U = np.reshape(U[:, :length] @ np.diag(S) , (size_0, 2, length))\n",
        "    Vh = np.reshape(Vh[:length, :], (length, 2, size_1))\n",
        "    # e\n",
        "    if flag == 1:\n",
        "      self.tensors[qubit] = U\n",
        "      self.tensors[qubit + 1] = Vh\n",
        "      self.k = qubit\n",
        "    if flag == -1:\n",
        "      self.tensors[qubit - 1] = U\n",
        "      self.tensors[qubit] = Vh\n",
        "      self.k = qubit-1\n",
        "\n",
        "  def expectation(self, operator, qubit):\n",
        "    displace(self.tensors, qubit, self.k)\n",
        "    apply_operator = np.tensordot(operator, self.tensors[qubit], axes = (1, 1))\n",
        "    apply_operator = np.moveaxis(apply_operator, (0, 1), (1, 0))\n",
        "    apply_operator = np.reshape(apply_operator, np.prod(apply_operator.shape))\n",
        "    state_value = np.reshape(self.tensors[qubit], np.prod(self.tensors[qubit].shape))\n",
        "    return np.vdot(state_value, apply_operator)"
      ],
      "metadata": {
        "id": "FiLsJzuKPquz"
      },
      "execution_count": 4,
      "outputs": []
    },
    {
      "cell_type": "code",
      "source": [
        "class QuantumCircuit:\n",
        "\n",
        "  def __init__(self, n_qubit, list_gates = []): # allows to define a circuit by some initial list of gates\n",
        "\n",
        "    self.n = n_qubit\n",
        "    self.gates = list_gates.copy() # copy to avoid double access to the same memory\n",
        "\n",
        "  def to_vec(self, state):\n",
        "    a = state.tensors[0] # compute the coefficients on the tensor basis for analyzing them\n",
        "    for k in range(self.n - 1):\n",
        "      a = np.tensordot(a, state.tensors[k + 1], axes = (-1, 0))\n",
        "    a = np.reshape(a, [2]*self.n)\n",
        "    return a\n",
        "\n",
        "  def simulate(self, chi, convert = True, operator = None, q_measure = None):\n",
        "    state = MPSState(self.n, chi)\n",
        "    time_stamp = time()\n",
        "\n",
        "\n",
        "    for info in self.gates:\n",
        "\n",
        "      if type_gate[info[0]] == 0:\n",
        "        gate, args, qubit = info\n",
        "        state.apply_1(gate, args, qubit)\n",
        "\n",
        "      elif type_gate[info[0]] == 1:\n",
        "        gate, args, qubit, flag = info\n",
        "\n",
        "        if np.abs(flag) == 1:\n",
        "          state.apply_2(gate, args, qubit, flag)\n",
        "\n",
        "        else:\n",
        "          for k in range(0, flag - np.sign(flag), np.sign(flag)): # SWAP wall\n",
        "            state.apply_2(\"SWAP\", None, qubit + k, np.sign(flag))\n",
        "\n",
        "          state.apply_2(gate, args, qubit + flag - np.sign(flag), np.sign(flag))\n",
        "\n",
        "          for k in range(flag - 2 * np.sign(flag), -np.sign(flag), -np.sign(flag)): # Inverse SWAP wall\n",
        "            state.apply_2(\"SWAP\", None, qubit + k, np.sign(flag))\n",
        "\n",
        "\n",
        "    if convert and operator == None:\n",
        "      a = self.to_vec(state)\n",
        "      return a, time() - time_stamp\n",
        "    elif not convert and np.all(operator != None) and q_measure != None:\n",
        "      return state.expectation(operator, q_measure), time() - time_stamp\n",
        "    else:\n",
        "      return time() - time_stamp\n",
        "\n",
        "  def random_circuit(self, depth):\n",
        "    for i in range(depth):\n",
        "      for q in range(self.n):\n",
        "        its = np.random.choice([0, 1, 2])\n",
        "        if its == 0:\n",
        "          self.gates.append((\"RX\", np.random.uniform(low = 0, high = 2 * np.pi), q))\n",
        "        elif its == 1:\n",
        "          self.gates.append((\"RY\", np.random.uniform(low = 0, high = 2 * np.pi), q))\n",
        "        elif its == 2:\n",
        "          self.gates.append((\"RZ\", np.random.uniform(low = 0, high = 2 * np.pi), q))\n",
        "\n",
        "        if q < self.n - 1 and (q - i) % 2 == 0:\n",
        "          self.gates.append((\"CNOT\", None, q, 1))\n",
        "\n",
        "  def H_wall(self):\n",
        "    for k in range(self.n):\n",
        "      self.gates.append((\"H\", None, k))\n",
        "\"\"\"\n",
        "  def QFT(self):\n",
        "\n",
        "    def step_QFT(n_qubit):\n",
        "      self.gates.append((\"H\", None, n_qubit))\n",
        "      if n_qubit >= 1:\n",
        "        for k in range(1, n_qubit):\n",
        "          self.gates.append((\"CP\", np.pi / 2**k, [n_qubit, n_qubit - k]))\n",
        "        step_QFT(n_qubit - 1) # recursive construction\n",
        "\n",
        "    #step_QFT(self.n - 1)\n",
        "\"\"\""
      ],
      "metadata": {
        "id": "Jx_kMifSQm6a",
        "colab": {
          "base_uri": "https://localhost:8080/",
          "height": 53
        },
        "outputId": "029d7b7c-a681-4c6e-fab9-6cfc50dc15a2"
      },
      "execution_count": 5,
      "outputs": [
        {
          "output_type": "execute_result",
          "data": {
            "text/plain": [
              "'\\n  def QFT(self):\\n\\n    def step_QFT(n_qubit):\\n      self.gates.append((\"H\", None, n_qubit))\\n      if n_qubit >= 1:\\n        for k in range(1, n_qubit):\\n          self.gates.append((\"CP\", np.pi / 2**k, [n_qubit, n_qubit - k]))\\n        step_QFT(n_qubit - 1) # recursive construction\\n\\n    #step_QFT(self.n - 1)\\n'"
            ],
            "application/vnd.google.colaboratory.intrinsic+json": {
              "type": "string"
            }
          },
          "metadata": {},
          "execution_count": 5
        }
      ]
    },
    {
      "cell_type": "markdown",
      "source": [
        "**Hadamard gate**"
      ],
      "metadata": {
        "id": "Y0GKxmHevqqu"
      }
    },
    {
      "cell_type": "code",
      "source": [
        "n_qubit = 1\n",
        "chi = 1\n",
        "list_gates = [(\"H\", None, 0)]\n",
        "\n",
        "circuit = QuantumCircuit(n_qubit, list_gates)\n",
        "\n",
        "state, duration = circuit.simulate(chi)"
      ],
      "metadata": {
        "id": "6QUo4KN2vnyM"
      },
      "execution_count": 6,
      "outputs": []
    },
    {
      "cell_type": "code",
      "source": [
        "state"
      ],
      "metadata": {
        "colab": {
          "base_uri": "https://localhost:8080/"
        },
        "id": "EszXikrK844B",
        "outputId": "575a46bb-dd59-4054-bc48-a86503fabd6a"
      },
      "execution_count": 7,
      "outputs": [
        {
          "output_type": "execute_result",
          "data": {
            "text/plain": [
              "array([0.70710677+0.j, 0.70710677+0.j], dtype=complex64)"
            ]
          },
          "metadata": {},
          "execution_count": 7
        }
      ]
    },
    {
      "cell_type": "code",
      "source": [
        "print(\"Norm squared of the final state:\" , fidelity(state, state))"
      ],
      "metadata": {
        "colab": {
          "base_uri": "https://localhost:8080/"
        },
        "id": "CfmwmxBNtWpR",
        "outputId": "7c791354-b78d-49e0-a5bc-02d63e830cb8"
      },
      "execution_count": 8,
      "outputs": [
        {
          "output_type": "stream",
          "name": "stdout",
          "text": [
            "Norm squared of the final state: 0.999999880790714\n"
          ]
        }
      ]
    },
    {
      "cell_type": "code",
      "source": [
        "print(\"Duration:\", duration)"
      ],
      "metadata": {
        "colab": {
          "base_uri": "https://localhost:8080/"
        },
        "id": "D82AoK0tvqIQ",
        "outputId": "fdd08a7b-adf9-4d1c-c823-eecd048a8a2c"
      },
      "execution_count": 9,
      "outputs": [
        {
          "output_type": "stream",
          "name": "stdout",
          "text": [
            "Duration: 0.0017616748809814453\n"
          ]
        }
      ]
    },
    {
      "cell_type": "markdown",
      "source": [
        "**Hadamard wall (with a test for the phase)**"
      ],
      "metadata": {
        "id": "6Mbn9Yxi9S29"
      }
    },
    {
      "cell_type": "code",
      "source": [
        "n_qubit = 2\n",
        "chi = 2\n",
        "circuit = QuantumCircuit(n_qubit, [(\"X\", None, 1)])\n",
        "circuit.H_wall()\n",
        "state, duration = circuit.simulate(chi)"
      ],
      "metadata": {
        "id": "hbsQJk-r9TBM"
      },
      "execution_count": 10,
      "outputs": []
    },
    {
      "cell_type": "code",
      "source": [
        "state"
      ],
      "metadata": {
        "colab": {
          "base_uri": "https://localhost:8080/"
        },
        "id": "YVKjooHS9TG1",
        "outputId": "83a2c7c6-a325-45da-bc3e-17e84b1323ca"
      },
      "execution_count": 11,
      "outputs": [
        {
          "output_type": "execute_result",
          "data": {
            "text/plain": [
              "array([[ 0.49999998+0.j, -0.49999998+0.j],\n",
              "       [ 0.49999998+0.j, -0.49999998+0.j]])"
            ]
          },
          "metadata": {},
          "execution_count": 11
        }
      ]
    },
    {
      "cell_type": "code",
      "source": [
        "print(\"Norm squared of the final state:\" , fidelity(state, state))"
      ],
      "metadata": {
        "colab": {
          "base_uri": "https://localhost:8080/"
        },
        "id": "n7W9jFM_tlLi",
        "outputId": "4109fb17-f44c-4814-d540-a942c06e41e4"
      },
      "execution_count": 12,
      "outputs": [
        {
          "output_type": "stream",
          "name": "stdout",
          "text": [
            "Norm squared of the final state: 0.99999986308584\n"
          ]
        }
      ]
    },
    {
      "cell_type": "code",
      "source": [
        "print(\"Duration:\", duration)"
      ],
      "metadata": {
        "colab": {
          "base_uri": "https://localhost:8080/"
        },
        "id": "gYHoOcwX9TMK",
        "outputId": "72854609-ef51-455b-c2f5-a040f6a87357"
      },
      "execution_count": 13,
      "outputs": [
        {
          "output_type": "stream",
          "name": "stdout",
          "text": [
            "Duration: 0.025120973587036133\n"
          ]
        }
      ]
    },
    {
      "cell_type": "markdown",
      "source": [
        "**Rotation Gates**"
      ],
      "metadata": {
        "id": "4tg_gm9L7EJL"
      }
    },
    {
      "cell_type": "code",
      "source": [
        "n_qubit = 1\n",
        "chi = 1\n",
        "list_gates = [(\"RX\", 2.97263637828271828287665658391919, 0)]\n",
        "\n",
        "circuit = QuantumCircuit(n_qubit, list_gates)\n",
        "\n",
        "state, duration = circuit.simulate(chi)"
      ],
      "metadata": {
        "id": "AoW973kV7L3C"
      },
      "execution_count": 14,
      "outputs": []
    },
    {
      "cell_type": "code",
      "source": [
        "state"
      ],
      "metadata": {
        "colab": {
          "base_uri": "https://localhost:8080/"
        },
        "id": "9TvArCCA7L8P",
        "outputId": "7e5bd385-3e41-4d59-e61a-d61d37c0d6a5"
      },
      "execution_count": 15,
      "outputs": [
        {
          "output_type": "execute_result",
          "data": {
            "text/plain": [
              "array([0.08437769+0.j        , 0.        -0.99643385j], dtype=complex64)"
            ]
          },
          "metadata": {},
          "execution_count": 15
        }
      ]
    },
    {
      "cell_type": "code",
      "source": [
        "print(\"Norm squared of the final state:\" , fidelity(state, state))"
      ],
      "metadata": {
        "colab": {
          "base_uri": "https://localhost:8080/"
        },
        "id": "WaZ69TH67MBo",
        "outputId": "15da426a-a2d6-47b7-bcd1-fbe998416893"
      },
      "execution_count": 16,
      "outputs": [
        {
          "output_type": "stream",
          "name": "stdout",
          "text": [
            "Norm squared of the final state: 1.0\n"
          ]
        }
      ]
    },
    {
      "cell_type": "code",
      "source": [
        "print(\"Duration:\", duration)"
      ],
      "metadata": {
        "colab": {
          "base_uri": "https://localhost:8080/"
        },
        "id": "H3EJOCBG7V80",
        "outputId": "e920f6ac-819f-4e1f-ffa8-8ba545d1c107"
      },
      "execution_count": 17,
      "outputs": [
        {
          "output_type": "stream",
          "name": "stdout",
          "text": [
            "Duration: 0.00025534629821777344\n"
          ]
        }
      ]
    },
    {
      "cell_type": "markdown",
      "source": [
        "**CNOT**"
      ],
      "metadata": {
        "id": "G0dGVAD8-yZS"
      }
    },
    {
      "cell_type": "code",
      "source": [
        "n_qubit = 3\n",
        "chi = 2\n",
        "list_gates = [(\"CNOT\", None, 0, 1)] + [(\"CNOT\", None, 1, 1)] + [(\"CNOT\", None, 0, 1)]\n",
        "circuit = QuantumCircuit(n_qubit, list_gates)\n",
        "state, duration = circuit.simulate(chi)"
      ],
      "metadata": {
        "id": "3fvLkg5H-xqH"
      },
      "execution_count": 18,
      "outputs": []
    },
    {
      "cell_type": "code",
      "source": [
        "print(\"Norm squared of the final state:\" , fidelity(state, state))"
      ],
      "metadata": {
        "colab": {
          "base_uri": "https://localhost:8080/"
        },
        "id": "TuxV3Gvy-x6n",
        "outputId": "d947f21d-e234-4f0c-f784-3a0db6b74749"
      },
      "execution_count": 19,
      "outputs": [
        {
          "output_type": "stream",
          "name": "stdout",
          "text": [
            "Norm squared of the final state: 1.0\n"
          ]
        }
      ]
    },
    {
      "cell_type": "code",
      "source": [
        "state"
      ],
      "metadata": {
        "colab": {
          "base_uri": "https://localhost:8080/"
        },
        "id": "J75YDI3WRshl",
        "outputId": "b6d8b8c2-da9b-4e55-fc84-7690776913ea"
      },
      "execution_count": 20,
      "outputs": [
        {
          "output_type": "execute_result",
          "data": {
            "text/plain": [
              "array([[[1.+0.j, 0.+0.j],\n",
              "        [0.+0.j, 0.+0.j]],\n",
              "\n",
              "       [[0.+0.j, 0.+0.j],\n",
              "        [0.+0.j, 0.+0.j]]], dtype=complex64)"
            ]
          },
          "metadata": {},
          "execution_count": 20
        }
      ]
    },
    {
      "cell_type": "markdown",
      "source": [
        "**CNOT + Hadamard**"
      ],
      "metadata": {
        "id": "4yF1pv5y5qzS"
      }
    },
    {
      "cell_type": "code",
      "source": [
        "n_qubit = 3\n",
        "chi = 2\n",
        "circuit = QuantumCircuit(n_qubit)\n",
        "circuit.gates.append((\"RX\", 2.9726363782827, 0))\n",
        "circuit.gates.append((\"CNOT\", None, 0, 1))\n",
        "circuit.gates.append((\"CNOT\", None, 1, 1))\n",
        "circuit.gates.append((\"CNOT\", None, 0, 1))\n",
        "state, duration = circuit.simulate(chi)"
      ],
      "metadata": {
        "id": "2vUWCQ0w5pom"
      },
      "execution_count": 21,
      "outputs": []
    },
    {
      "cell_type": "markdown",
      "source": [
        "**100 qubits**\n",
        "\n",
        "We cannot convert the matrix product state into a tensor state for 100 qubits. However, the computations can be done quite rapidly."
      ],
      "metadata": {
        "id": "LxyB_mDuAEKo"
      }
    },
    {
      "cell_type": "code",
      "source": [
        "n_qubit = 100\n",
        "chi = 100\n",
        "circuit = QuantumCircuit(n_qubit)\n",
        "circuit.H_wall()\n",
        "duration = circuit.simulate(chi, False)"
      ],
      "metadata": {
        "id": "bf58hSNXAID5"
      },
      "execution_count": 22,
      "outputs": []
    },
    {
      "cell_type": "code",
      "source": [
        "print(\"Duration:\", duration)"
      ],
      "metadata": {
        "colab": {
          "base_uri": "https://localhost:8080/"
        },
        "id": "ZGlYVu3-AIGN",
        "outputId": "50962b99-db2e-42da-f708-9f02ed2bb955"
      },
      "execution_count": 23,
      "outputs": [
        {
          "output_type": "stream",
          "name": "stdout",
          "text": [
            "Duration: 0.0832817554473877\n"
          ]
        }
      ]
    },
    {
      "cell_type": "markdown",
      "source": [
        "**Bell State Circuit**"
      ],
      "metadata": {
        "id": "Ky1SIastht19"
      }
    },
    {
      "cell_type": "code",
      "source": [
        "n_qubit = 3\n",
        "chi = 2\n",
        "list_gates = [(\"H\", None, 0), (\"CNOT\", None, 0, 1), (\"CNOT\", None, 1, 1)]\n",
        "circuit = QuantumCircuit(n_qubit, list_gates)\n",
        "state, duration = circuit.simulate(chi)"
      ],
      "metadata": {
        "id": "33GvOjjdAIIm"
      },
      "execution_count": 24,
      "outputs": []
    },
    {
      "cell_type": "code",
      "source": [
        "print(\"Duration:\", duration)"
      ],
      "metadata": {
        "id": "lSU5WZoUAIK2",
        "colab": {
          "base_uri": "https://localhost:8080/"
        },
        "outputId": "8e0f8624-7e17-400c-8a6d-1d5bece79093"
      },
      "execution_count": 25,
      "outputs": [
        {
          "output_type": "stream",
          "name": "stdout",
          "text": [
            "Duration: 0.007483720779418945\n"
          ]
        }
      ]
    },
    {
      "cell_type": "code",
      "source": [
        "print(\"Norm squared of the final state:\" , fidelity(state, state))"
      ],
      "metadata": {
        "colab": {
          "base_uri": "https://localhost:8080/"
        },
        "id": "tvg-bzbnrfTg",
        "outputId": "c0f70dc3-15d0-4263-cc06-aa26a9bc7b46"
      },
      "execution_count": 26,
      "outputs": [
        {
          "output_type": "stream",
          "name": "stdout",
          "text": [
            "Norm squared of the final state: 1.0000002384185933\n"
          ]
        }
      ]
    },
    {
      "cell_type": "markdown",
      "source": [
        "**Bell State with Inversed Gate**"
      ],
      "metadata": {
        "id": "Sp0TE1vDwjAT"
      }
    },
    {
      "cell_type": "code",
      "source": [
        "n_qubit = 2\n",
        "chi = 2\n",
        "list_gates = [(\"H\", None, 1), (\"CNOT\", None, 1, -1)]\n",
        "circuit = QuantumCircuit(n_qubit, list_gates)\n",
        "state, duration = circuit.simulate(chi)"
      ],
      "metadata": {
        "id": "NrV2AaTpwnQg"
      },
      "execution_count": 27,
      "outputs": []
    },
    {
      "cell_type": "code",
      "source": [
        "print(\"Duration:\", duration)"
      ],
      "metadata": {
        "colab": {
          "base_uri": "https://localhost:8080/"
        },
        "id": "UsKtvxiFwnSh",
        "outputId": "c0786928-5bd0-43a7-f96e-c6bd702480fc"
      },
      "execution_count": 28,
      "outputs": [
        {
          "output_type": "stream",
          "name": "stdout",
          "text": [
            "Duration: 0.000997781753540039\n"
          ]
        }
      ]
    },
    {
      "cell_type": "code",
      "source": [
        "state"
      ],
      "metadata": {
        "colab": {
          "base_uri": "https://localhost:8080/"
        },
        "id": "c8Oaw554wnUz",
        "outputId": "8e7b5803-1567-4c7a-de9f-69c6f285709e"
      },
      "execution_count": 29,
      "outputs": [
        {
          "output_type": "execute_result",
          "data": {
            "text/plain": [
              "array([[0.7071068+0.j, 0.       +0.j],\n",
              "       [0.       +0.j, 0.7071068+0.j]], dtype=complex64)"
            ]
          },
          "metadata": {},
          "execution_count": 29
        }
      ]
    },
    {
      "cell_type": "code",
      "source": [
        "print(\"Norm squared of the final state:\" ,fidelity(state, state))"
      ],
      "metadata": {
        "colab": {
          "base_uri": "https://localhost:8080/"
        },
        "id": "xXa9WkXEt9x-",
        "outputId": "dc1ec183-60cb-44fa-d51d-d19863649a55"
      },
      "execution_count": 30,
      "outputs": [
        {
          "output_type": "stream",
          "name": "stdout",
          "text": [
            "Norm squared of the final state: 1.0000002384185933\n"
          ]
        }
      ]
    },
    {
      "cell_type": "markdown",
      "source": [
        "**Random Circuit simulator**"
      ],
      "metadata": {
        "id": "LzdP4zCjyqsC"
      }
    },
    {
      "cell_type": "code",
      "source": [
        "n_ = 10\n",
        "depth = 1000\n",
        "circuit_ = QuantumCircuit(n_)\n",
        "circuit_.random_circuit(depth)"
      ],
      "metadata": {
        "id": "ZEZtYvB7yu3Q"
      },
      "execution_count": 31,
      "outputs": []
    },
    {
      "cell_type": "code",
      "source": [
        "chi = 100\n",
        "state_100, duration = circuit_.simulate(chi)"
      ],
      "metadata": {
        "id": "k4FJEyC390FQ"
      },
      "execution_count": 32,
      "outputs": []
    },
    {
      "cell_type": "code",
      "source": [
        "probs_res = np.abs(state_100) ** 2\n",
        "probs_res = probs_res.flatten()\n",
        "X = np.linspace(0, np.max(probs_res), 100)\n",
        "plt.hist(probs_res.flatten(), bins = 100, density = True)\n",
        "plt.plot(X, 2**n_* np.exp(-2**n_ * X), label = \"Fit Porter-Thomas distribution\")\n",
        "\n",
        "plt.xlabel(\"Probability\")\n",
        "plt.ylabel(\"Frequency\")\n",
        "plt.title(\"Probability histogram\")\n",
        "plt.legend()"
      ],
      "metadata": {
        "id": "6kJI-EKuyu7Y",
        "colab": {
          "base_uri": "https://localhost:8080/",
          "height": 489
        },
        "outputId": "b4f9e612-9656-496d-8498-1e2e12b34029"
      },
      "execution_count": 33,
      "outputs": [
        {
          "output_type": "execute_result",
          "data": {
            "text/plain": [
              "<matplotlib.legend.Legend at 0x7d715b3e2740>"
            ]
          },
          "metadata": {},
          "execution_count": 33
        },
        {
          "output_type": "display_data",
          "data": {
            "text/plain": [
              "<Figure size 640x480 with 1 Axes>"
            ],
            "image/png": "[encoded data removed]"
          },
          "metadata": {}
        }
      ]
    },
    {
      "cell_type": "code",
      "source": [
        "chi = 10\n",
        "state_10, duration = circuit_.simulate(chi)"
      ],
      "metadata": {
        "id": "B18_r2qy97Jf"
      },
      "execution_count": 34,
      "outputs": []
    },
    {
      "cell_type": "code",
      "source": [
        "probs_res = np.abs(state_10) ** 2\n",
        "probs_res = probs_res.flatten()\n",
        "X = np.linspace(0, np.max(probs_res), 100)\n",
        "plt.hist(probs_res.flatten(), bins = 100, density = True)\n",
        "plt.plot(X, 2**n_* np.exp(-2**n_ * X), label = \"Fit Porter-Thomas distribution\")\n",
        "\n",
        "plt.xlabel(\"Probability\")\n",
        "plt.ylabel(\"Frequency\")\n",
        "plt.title(\"Probability histogram\")\n",
        "plt.legend()"
      ],
      "metadata": {
        "colab": {
          "base_uri": "https://localhost:8080/",
          "height": 489
        },
        "id": "EcdPq3fKLEmP",
        "outputId": "e3f58033-e4be-425a-c5a1-3edf3ccc2346"
      },
      "execution_count": 35,
      "outputs": [
        {
          "output_type": "execute_result",
          "data": {
            "text/plain": [
              "<matplotlib.legend.Legend at 0x7d7135393ac0>"
            ]
          },
          "metadata": {},
          "execution_count": 35
        },
        {
          "output_type": "display_data",
          "data": {
            "text/plain": [
              "<Figure size 640x480 with 1 Axes>"
            ],
            "image/png": "[encoded data removed]"
          },
          "metadata": {}
        }
      ]
    },
    {
      "cell_type": "code",
      "source": [
        "norm2_100 = fidelity(state_100, state_100)\n",
        "norm2_10 = fidelity(state_10, state_10)\n",
        "print(\"Norm squared of the final state for 100:\" , norm2_100)\n",
        "print(\"Norm squared of the final state for 10:\" , norm2_10)\n",
        "print(\"Fidelity between the two states:\" , fidelity(state_10, state_100) / np.sqrt(norm2_100 * norm2_10))"
      ],
      "metadata": {
        "id": "r_3RWkB8uAaB",
        "colab": {
          "base_uri": "https://localhost:8080/"
        },
        "outputId": "534e496b-e264-409e-92d4-ad9809c6168c"
      },
      "execution_count": 36,
      "outputs": [
        {
          "output_type": "stream",
          "name": "stdout",
          "text": [
            "Norm squared of the final state for 100: 1.0000002384185933\n",
            "Norm squared of the final state for 10: 1.0\n",
            "Fidelity between the two states: 0.00019056229454256107\n"
          ]
        }
      ]
    },
    {
      "cell_type": "markdown",
      "source": [
        "**CNOT(0, 2)**"
      ],
      "metadata": {
        "id": "0SDRACEuLwej"
      }
    },
    {
      "cell_type": "code",
      "source": [
        "n_qubit = 3\n",
        "chi = 2\n",
        "list_gates = [(\"X\", None, 0)] + [(\"SWAP\", None, 0, 1)] + [(\"CNOT\", None, 1, 1)] + [(\"SWAP\", None, 0, 1)]\n",
        "circuit = QuantumCircuit(n_qubit, list_gates)\n",
        "state, duration = circuit.simulate(chi)"
      ],
      "metadata": {
        "id": "xQV1NLTcL0X6"
      },
      "execution_count": 37,
      "outputs": []
    },
    {
      "cell_type": "code",
      "source": [
        "print(\"Duration:\", duration)"
      ],
      "metadata": {
        "colab": {
          "base_uri": "https://localhost:8080/"
        },
        "id": "Jt3JETI2L0aU",
        "outputId": "8398e9b3-ced7-40e7-dc18-e557803f18b1"
      },
      "execution_count": 38,
      "outputs": [
        {
          "output_type": "stream",
          "name": "stdout",
          "text": [
            "Duration: 0.0057065486907958984\n"
          ]
        }
      ]
    },
    {
      "cell_type": "code",
      "source": [
        "state"
      ],
      "metadata": {
        "colab": {
          "base_uri": "https://localhost:8080/"
        },
        "id": "H27V4XS2L0co",
        "outputId": "d1d5f95a-e122-494a-bcdf-daec6b5bde64"
      },
      "execution_count": 39,
      "outputs": [
        {
          "output_type": "execute_result",
          "data": {
            "text/plain": [
              "array([[[0.+0.j, 0.+0.j],\n",
              "        [0.+0.j, 0.+0.j]],\n",
              "\n",
              "       [[0.+0.j, 1.+0.j],\n",
              "        [0.+0.j, 0.+0.j]]])"
            ]
          },
          "metadata": {},
          "execution_count": 39
        }
      ]
    },
    {
      "cell_type": "code",
      "source": [
        "n_qubit = 3\n",
        "chi = 2\n",
        "list_gates = [(\"X\", None, 0)] + [(\"CNOT\", None, 0, 2)]\n",
        "circuit = QuantumCircuit(n_qubit, list_gates)\n",
        "state, duration = circuit.simulate(chi)"
      ],
      "metadata": {
        "id": "kdeEY6KGL0e7"
      },
      "execution_count": 40,
      "outputs": []
    },
    {
      "cell_type": "code",
      "source": [
        "print(\"Duration:\", duration)"
      ],
      "metadata": {
        "colab": {
          "base_uri": "https://localhost:8080/"
        },
        "id": "Ff7xlBofL0hJ",
        "outputId": "36ede6b2-f26c-420f-e01b-233b6a8d0ca2"
      },
      "execution_count": 41,
      "outputs": [
        {
          "output_type": "stream",
          "name": "stdout",
          "text": [
            "Duration: 0.0057582855224609375\n"
          ]
        }
      ]
    },
    {
      "cell_type": "code",
      "source": [
        "state"
      ],
      "metadata": {
        "colab": {
          "base_uri": "https://localhost:8080/"
        },
        "id": "Ih8tlqrGL0od",
        "outputId": "0164696e-5337-4232-9898-774f194261fb"
      },
      "execution_count": 42,
      "outputs": [
        {
          "output_type": "execute_result",
          "data": {
            "text/plain": [
              "array([[[0.+0.j, 0.+0.j],\n",
              "        [0.+0.j, 0.+0.j]],\n",
              "\n",
              "       [[0.+0.j, 1.+0.j],\n",
              "        [0.+0.j, 0.+0.j]]])"
            ]
          },
          "metadata": {},
          "execution_count": 42
        }
      ]
    },
    {
      "cell_type": "markdown",
      "source": [
        "**CNOT(2, 0)**"
      ],
      "metadata": {
        "id": "UEm6iaHOVlK5"
      }
    },
    {
      "cell_type": "code",
      "source": [
        "n_qubit = 3\n",
        "chi = 2\n",
        "list_gates = [(\"X\", None, 2)] + [(\"SWAP\", None, 1, 1)] + [(\"CNOT\", None, 1, -1)] + [(\"SWAP\", None, 1, 1)]\n",
        "circuit = QuantumCircuit(n_qubit, list_gates)\n",
        "state, duration = circuit.simulate(chi)"
      ],
      "metadata": {
        "id": "iYbzGgYNVoCv"
      },
      "execution_count": 43,
      "outputs": []
    },
    {
      "cell_type": "code",
      "source": [
        "print(\"Duration:\", duration)"
      ],
      "metadata": {
        "colab": {
          "base_uri": "https://localhost:8080/"
        },
        "id": "4tqboC5QVoFP",
        "outputId": "d7820fd8-214a-40f4-c85d-e4241bdbe372"
      },
      "execution_count": 44,
      "outputs": [
        {
          "output_type": "stream",
          "name": "stdout",
          "text": [
            "Duration: 0.010974645614624023\n"
          ]
        }
      ]
    },
    {
      "cell_type": "code",
      "source": [
        "state"
      ],
      "metadata": {
        "colab": {
          "base_uri": "https://localhost:8080/"
        },
        "id": "7hshtnUQVoHq",
        "outputId": "20b4cc61-2d09-4935-b533-c573c54f8905"
      },
      "execution_count": 45,
      "outputs": [
        {
          "output_type": "execute_result",
          "data": {
            "text/plain": [
              "array([[[0.+0.j, 0.+0.j],\n",
              "        [0.+0.j, 0.+0.j]],\n",
              "\n",
              "       [[0.+0.j, 1.+0.j],\n",
              "        [0.+0.j, 0.+0.j]]])"
            ]
          },
          "metadata": {},
          "execution_count": 45
        }
      ]
    },
    {
      "cell_type": "code",
      "source": [
        "n_qubit = 3\n",
        "chi = 2\n",
        "list_gates = [(\"X\", None, 2)] + [(\"CNOT\", None, 2, -2)]\n",
        "circuit = QuantumCircuit(n_qubit, list_gates)\n",
        "state, duration = circuit.simulate(chi)"
      ],
      "metadata": {
        "id": "xoyGwdbZVoJ_"
      },
      "execution_count": 46,
      "outputs": []
    },
    {
      "cell_type": "code",
      "source": [
        "print(\"Duration:\", duration)"
      ],
      "metadata": {
        "colab": {
          "base_uri": "https://localhost:8080/"
        },
        "id": "-CEi6WixVoMI",
        "outputId": "04c59836-5bf1-402f-f09e-82215f1d9eb9"
      },
      "execution_count": 47,
      "outputs": [
        {
          "output_type": "stream",
          "name": "stdout",
          "text": [
            "Duration: 0.009759187698364258\n"
          ]
        }
      ]
    },
    {
      "cell_type": "code",
      "source": [
        "state"
      ],
      "metadata": {
        "colab": {
          "base_uri": "https://localhost:8080/"
        },
        "id": "7-fR-lflWgFL",
        "outputId": "6e09d097-cc20-4e1d-8adc-bada1ae50640"
      },
      "execution_count": 48,
      "outputs": [
        {
          "output_type": "execute_result",
          "data": {
            "text/plain": [
              "array([[[0.+0.j, 0.+0.j],\n",
              "        [0.+0.j, 0.+0.j]],\n",
              "\n",
              "       [[0.+0.j, 1.+0.j],\n",
              "        [0.+0.j, 0.+0.j]]])"
            ]
          },
          "metadata": {},
          "execution_count": 48
        }
      ]
    },
    {
      "cell_type": "markdown",
      "source": [
        "**Expectation of 1-Local Operators**"
      ],
      "metadata": {
        "id": "98VbMzfjdoZM"
      }
    },
    {
      "cell_type": "code",
      "source": [
        "op_1 = np.array([[1, 0], [0, 0]]) # probability to get 0\n",
        "n_qubit = 1\n",
        "chi = 2\n",
        "circuit = QuantumCircuit(n_qubit, [(\"H\", None, 0)])\n",
        "exp, duration = circuit.simulate(chi, convert = False, operator = op_1, q_measure = 0)\n",
        "print(\"Computed expectation value\", exp)"
      ],
      "metadata": {
        "colab": {
          "base_uri": "https://localhost:8080/"
        },
        "id": "uKMJbi0He5cQ",
        "outputId": "9fb5bf4a-ce2f-45ea-97e8-742fe2a664f3"
      },
      "execution_count": 49,
      "outputs": [
        {
          "output_type": "stream",
          "name": "stdout",
          "text": [
            "Computed expectation value (0.4999999828857291+0j)\n"
          ]
        }
      ]
    },
    {
      "cell_type": "code",
      "source": [
        "op_2 = np.array([[3, 1j], [-1j, -1]])\n",
        "n_qubit = 1\n",
        "chi = 2\n",
        "circuit = QuantumCircuit(n_qubit, [(\"H\", None, 0)])\n",
        "exp, duration = circuit.simulate(chi, convert = False, operator = op_2, q_measure = 0)\n",
        "print(\"Computed expectation value\", exp)\n",
        "print(\"Theoretical expectation value\", 0.5 * np.array([1, 1]) @ np.array([[3, 1j], [-1j, -1]]) @ np.array([[1], [1]]))"
      ],
      "metadata": {
        "colab": {
          "base_uri": "https://localhost:8080/"
        },
        "id": "Dv8NQ-E7e5ej",
        "outputId": "14432272-6501-4d9a-8843-7511ea32b214"
      },
      "execution_count": 50,
      "outputs": [
        {
          "output_type": "stream",
          "name": "stdout",
          "text": [
            "Computed expectation value (0.9999999657714582+0j)\n",
            "Theoretical expectation value [1.+0.j]\n"
          ]
        }
      ]
    },
    {
      "cell_type": "code",
      "source": [
        "op_1 = np.array([[1, 0], [0, 0]]) # probability to get 0\n",
        "n_qubit = 2\n",
        "chi = 2\n",
        "circuit = QuantumCircuit(n_qubit, [(\"H\", None, 0), (\"CNOT\", None, 0, 1)])\n",
        "exp, duration = circuit.simulate(chi, convert = False, operator = op_1, q_measure = 0)\n",
        "print(\"Computed expectation value\", exp)"
      ],
      "metadata": {
        "colab": {
          "base_uri": "https://localhost:8080/"
        },
        "id": "HpQDPUJtpkwH",
        "outputId": "ed89a72f-9e95-4498-8bf4-52ce4da9577b"
      },
      "execution_count": 51,
      "outputs": [
        {
          "output_type": "stream",
          "name": "stdout",
          "text": [
            "Computed expectation value (0.5000000671794282+0j)\n"
          ]
        }
      ]
    }
  ]
}