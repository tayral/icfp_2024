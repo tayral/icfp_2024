{
  "cells": [
    {
      "cell_type": "code",
      "execution_count": null,
      "metadata": {
        "id": "7w3DPMYL0QNH"
      },
      "outputs": [],
      "source": [
        "import numpy as np\n",
        "from time import time\n",
        "import matplotlib.pyplot as plt\n",
        "from tqdm import tqdm\n",
        "from typing import List, Tuple\n",
        "from scipy.optimize import curve_fit"
      ]
    },
    {
      "cell_type": "code",
      "execution_count": null,
      "metadata": {
        "id": "EQkuZAhm1j0S"
      },
      "outputs": [],
      "source": [
        "dict_gates = {\"H\": lambda args: np.array([[1, 1], [1,-1]], dtype = np.complex64) / np.sqrt(2),\n",
        "              \"X\": lambda args: np.array([[0, 1], [1, 0]], dtype = np.complex64),\n",
        "              \"Z\": lambda args: np.array([[1, 0], [0, -1]], dtype = np.complex64),\n",
        "              \"Y\": lambda args: np.array([[0, -1j], [1j, 0]], dtype = np.complex64),\n",
        "              \"CNOT\": lambda args: np.array([[1,0,0,0],[0,1,0,0],[0,0,0,1],[0,0,1,0]], dtype = np.complex64),\n",
        "              \"RX\": lambda theta: np.array([[np.cos(theta / 2), - 1j * np.sin(theta / 2)],[- 1j * np.sin(theta / 2), np.cos(theta / 2)]], dtype = np.complex64),\n",
        "              \"RY\": lambda theta: np.array([[np.cos(theta / 2), -np.sin(theta / 2)],[np.sin(theta / 2), np.cos(theta / 2)]], dtype = np.complex64),\n",
        "              \"RZ\": lambda theta: np.array([[np.exp(-1j * theta / 2), 0],[0, np.exp(1j * theta / 2)]], dtype = np.complex64),\n",
        "              \"CP\": lambda theta: np.array([[1, 0, 0, 0], [0, 1, 0, 0], [0, 0, 1, 0], [0, 0, 0, np.exp(1j * theta)]]),\n",
        "              \"SWAP\": lambda args: np.array([[1, 0, 0, 0], [0, 0, 1, 0], [0, 1, 0, 0], [0, 0, 0, 1]], dtype = np.complex64),\n",
        "              \"CZ\": lambda args: np.array([[1, 0, 0, 0], [0, 1, 0, 0], [0, 0, 1, 0], [0, 0, 0, -1]], dtype = np.complex64)}\n",
        "\n",
        "type_gate = {\"H\": 0, \"X\": 0, \"Y\": 0, \"Z\": 0, \"RX\": 0, \"RY\": 0, \"RZ\": 0, \"CNOT\": 1, \"CP\": 1, \"SWAP\": 1, \"CZ\": 1}\n",
        "letters_0 = [\"H\", \"X\", \"Y\", \"Z\", \"RX\", \"RY\", \"RZ\"]\n",
        "letters_1 = [\"CNOT\", \"CP\", \"SWAP\", \"CZ\"]\n",
        "letters = letters_0 + letters_1"
      ]
    },
    {
      "cell_type": "code",
      "execution_count": null,
      "metadata": {
        "id": "7A9wUENuZMee"
      },
      "outputs": [],
      "source": [
        "def trace(state):\n",
        "  \"\"\"\n",
        "  Need to redefine accurately the trace\n",
        "  \"\"\"\n",
        "  N = np.prod(state.shape)\n",
        "  nn = int(np.sqrt(N))\n",
        "  return np.trace(np.reshape(state, (nn, nn)))"
      ]
    },
    {
      "cell_type": "code",
      "execution_count": null,
      "metadata": {
        "id": "qLUOOM169jap"
      },
      "outputs": [],
      "source": [
        "relaxation = lambda p: [np.array([[1, 0],\n",
        "                                  [0, np.sqrt(1 - p)]], dtype = np.complex64),\n",
        "                       np.array([[0, np.sqrt(p)],\n",
        "                                  [0, 0]], dtype = np.complex64)]\n",
        "\n",
        "pure_dephasing = lambda p: [np.array([[np.sqrt(1 - p), 0],\n",
        "                        [0, np.sqrt(1 - p)]], dtype = np.complex64),\n",
        "                       np.array([[np.sqrt(p), 0],\n",
        "                        [0, -np.sqrt(p)]], dtype = np.complex64)]\n",
        "\n",
        "depolarizing = lambda p: [np.array([[np.sqrt(1 - p), 0],\n",
        "                        [0, np.sqrt(1 - p)]], dtype = np.complex64),\n",
        "                         np.array([[0, np.sqrt(p / 3)],\n",
        "                          [np.sqrt(p / 3), 0]], dtype = np.complex64),\n",
        "                         np.array([[0, -1j * np.sqrt(p / 3)],\n",
        "                          [1j * np.sqrt(p / 3), 0]], dtype = np.complex64),\n",
        "                         np.array([[np.sqrt(p / 3), 0],\n",
        "                        [0, -np.sqrt(p / 3)]], dtype = np.complex64)]\n",
        "\n",
        "bit_flip = lambda p: [np.array([[np.sqrt(1 - p), 0],\n",
        "                        [0, np.sqrt(1 - p)]], dtype = np.complex64),\n",
        "                       np.array([[0, np.sqrt(p)],\n",
        "                          [np.sqrt(p), 0]], dtype = np.complex64)]"
      ]
    },
    {
      "cell_type": "code",
      "execution_count": null,
      "metadata": {
        "id": "T4eLDmCu9bK8"
      },
      "outputs": [],
      "source": [
        "dict_noise = [relaxation, pure_dephasing, depolarizing, bit_flip]"
      ]
    },
    {
      "cell_type": "code",
      "execution_count": null,
      "metadata": {
        "id": "2t_PNdqV1j22"
      },
      "outputs": [],
      "source": [
        "class StateVector:\n",
        "\n",
        "    def __init__(self, n_qubit: int):\n",
        "        \"\"\"\n",
        "        Initialize the state vector with the specified number of qubits.\n",
        "        \"\"\"\n",
        "        self.n = n_qubit\n",
        "        self.state = np.zeros(2**n_qubit, dtype=np.complex64)\n",
        "        self.state[0] = 1  # Initial state |0, 0, ..., 0>\n",
        "        self.state = np.reshape(self.state, (2,) * n_qubit)\n",
        "\n",
        "    def apply(self, gate_input: np.ndarray, qubits: List[int], noise: bool):\n",
        "        \"\"\"\n",
        "        Apply the given gate to the specified qubits with optional noise.\n",
        "\n",
        "        Args:\n",
        "            gate_input (np.ndarray): The gate matrix.\n",
        "            qubits (List[int]): The qubits to apply the gate to.\n",
        "            noise (bool): Flag indicating whether to apply noise.\n",
        "\n",
        "        Raises:\n",
        "            ValueError: If the length of qubits is invalid or if gate_input dimensions are incorrect.\n",
        "        \"\"\"\n",
        "        m = len(qubits)\n",
        "        if m <= 0 or m > self.n // 2:\n",
        "            raise ValueError(\"Invalid number of qubits\")\n",
        "\n",
        "        M = int(2**m)\n",
        "        gate_Kraus = np.tensordot(gate_input, np.conj(gate_input), axes=0) if not noise else \\\n",
        "                     sum(np.tensordot(g, np.conj(g), axes=0) for g in gate_input)\n",
        "\n",
        "        if gate_Kraus.shape != (M, M, M, M):\n",
        "            raise ValueError(\"Invalid gate_input dimensions\")\n",
        "\n",
        "        self.state = np.moveaxis(self.state, qubits + [q + self.n // 2 for q in qubits], range(2 * m))\n",
        "        self.state = np.reshape(self.state, [M] + [M] + [2**(self.n - 2 * m)])\n",
        "        self.state = np.tensordot(gate_Kraus, self.state, axes=([1, 3], [0, 1]))  # Adjusted contraction\n",
        "        self.state = np.reshape(self.state, (2,) * self.n)\n",
        "        self.state = np.moveaxis(self.state, range(2 * m), qubits + [q + self.n // 2 for q in qubits])\n",
        "\n",
        "    def __repr__(self):\n",
        "      return str(self.state)"
      ]
    },
    {
      "cell_type": "code",
      "execution_count": null,
      "metadata": {
        "id": "WhHUzeOq1j5U"
      },
      "outputs": [],
      "source": [
        "class QuantumCircuit:\n",
        "\n",
        "  def __init__(self, n_qubit, list_gates = []): # allows to define a circuit by some initial list of gates\n",
        "\n",
        "    self.n = n_qubit\n",
        "    self.gates = list_gates\n",
        "\n",
        "  def simulate(self, p):\n",
        "    state = StateVector(2 * self.n) # 2 * n_qubits to simulate noise\n",
        "    time_stamp = time()\n",
        "    for gate, args, qubits in self.gates:\n",
        "      state.apply(dict_gates[gate](args), qubits, False)\n",
        "      for q in qubits:\n",
        "        idx = np.random.randint(len(dict_noise))\n",
        "        state.apply(dict_noise[0](p), [0], True)\n",
        "    return state, time() - time_stamp\n",
        "\n",
        "  def random_circuit(self, depth):\n",
        "    for i in range(depth):\n",
        "      for q in range(self.n):\n",
        "        its = np.random.choice([0, 1, 2])\n",
        "        if its == 0:\n",
        "          self.gates.append((\"RX\", np.random.uniform(low = 0, high = 2 * np.pi), [q]))\n",
        "        elif its == 1:\n",
        "          self.gates.append((\"RY\", np.random.uniform(low = 0, high = 2 * np.pi), [q]))\n",
        "        elif its == 2:\n",
        "          self.gates.append((\"RZ\", np.random.uniform(low = 0, high = 2 * np.pi), [q]))\n",
        "\n",
        "        if q < self.n - 1 and (q - i) % 2 == 0:\n",
        "          self.gates.append((\"CNOT\", None, [q, q+1]))\n",
        "\n",
        "  def H_wall(self):\n",
        "    for k in range(self.n):\n",
        "      self.gates.append((\"H\", None, [k]))\n",
        "\n",
        "  def QFT(self):\n",
        "\n",
        "    def step_QFT(n_qubit):\n",
        "      self.gates.append((\"H\", None, [n_qubit]))\n",
        "      if n_qubit >= 1:\n",
        "        for k in range(1, n_qubit):\n",
        "          self.gates.append((\"CP\", np.pi / 2**k, [n_qubit, n_qubit - k]))\n",
        "        step_QFT(n_qubit - 1) # recursive construction\n",
        "\n",
        "    step_QFT(self.n - 1)\n",
        "\n",
        "  def benchmark(self, m, p):\n",
        "    self.gates = []\n",
        "    state = StateVector(2 * self.n) # 2 * n_qubits to simulate noise\n",
        "    for k in range(m): # define the gates\n",
        "\n",
        "      if self.n >= 2:\n",
        "        idx = np.random.randint(len(letters))\n",
        "      else:\n",
        "        idx = np.random.randint(len(letters_0))\n",
        "\n",
        "\n",
        "      if type_gate[letters[idx]] == 0:\n",
        "        qubits = [np.random.randint(self.n)]\n",
        "      elif type_gate[letters[idx]] == 1:\n",
        "        qubits = [np.random.randint(self.n)]\n",
        "        qubits.append(np.random.choice([k for k in range(self.n) if k != qubits[0]]))\n",
        "\n",
        "      self.gates.append((letters[idx], np.random.uniform(low = 0, high = 2 * np.pi), qubits)) # all the arguments are angles\n",
        "\n",
        "    for gate, args, qubits in self.gates: # apply in the direct order\n",
        "      state.apply(dict_gates[gate](args), qubits, False)\n",
        "      for q in qubits:\n",
        "        idx = np.random.randint(len(dict_noise))\n",
        "        state.apply(dict_noise[0](p), [0], True)\n",
        "\n",
        "    self.gates.reverse() # apply in the reverse order\n",
        "    for gate, args, qubits in self.gates:\n",
        "      state.apply(np.conj(dict_gates[gate](args)).T, qubits, False)\n",
        "      for q in qubits:\n",
        "        idx = np.random.randint(len(dict_noise))\n",
        "        state.apply(dict_noise[0](p), [0], True)\n",
        "\n",
        "    return np.abs(state.state[(0,) * (2 * self.n)])**2  # fidelity"
      ]
    },
    {
      "cell_type": "markdown",
      "metadata": {
        "id": "sdvgMaclRL5r"
      },
      "source": [
        "**Test Hadamard gate**"
      ]
    },
    {
      "cell_type": "code",
      "execution_count": null,
      "metadata": {
        "id": "-uWoZEJx1j73"
      },
      "outputs": [],
      "source": [
        "n_qubit = 2\n",
        "p = 0.0\n",
        "list_gates = [(\"H\", None, [0])]\n",
        "\n",
        "circuit = QuantumCircuit(n_qubit, list_gates)\n",
        "\n",
        "state, duration = circuit.simulate(p)"
      ]
    },
    {
      "cell_type": "code",
      "execution_count": null,
      "metadata": {
        "colab": {
          "base_uri": "https://localhost:8080/"
        },
        "id": "UTGe6ZRR1j-B",
        "outputId": "52cc1ec9-45b8-4b52-e88d-04cf9baea74e"
      },
      "outputs": [
        {
          "output_type": "execute_result",
          "data": {
            "text/plain": [
              "[[[[0.49999997+0.j 0.        +0.j]\n",
              "   [0.49999997+0.j 0.        +0.j]]\n",
              "\n",
              "  [[0.        +0.j 0.        +0.j]\n",
              "   [0.        +0.j 0.        +0.j]]]\n",
              "\n",
              "\n",
              " [[[0.49999997+0.j 0.        +0.j]\n",
              "   [0.49999997+0.j 0.        +0.j]]\n",
              "\n",
              "  [[0.        +0.j 0.        +0.j]\n",
              "   [0.        +0.j 0.        +0.j]]]]"
            ]
          },
          "metadata": {},
          "execution_count": 125
        }
      ],
      "source": [
        "state"
      ]
    },
    {
      "cell_type": "code",
      "execution_count": null,
      "metadata": {
        "colab": {
          "base_uri": "https://localhost:8080/"
        },
        "id": "Bb8HCZJ8ZRGa",
        "outputId": "3440a8b6-56f1-4c94-a60a-37ca96d9503a"
      },
      "outputs": [
        {
          "output_type": "stream",
          "name": "stdout",
          "text": [
            "Trace of the state: (0.99999994+0j)\n"
          ]
        }
      ],
      "source": [
        "print(\"Trace of the state:\",trace(state.state))"
      ]
    },
    {
      "cell_type": "code",
      "execution_count": null,
      "metadata": {
        "colab": {
          "base_uri": "https://localhost:8080/"
        },
        "id": "NzTVT4IURJ7R",
        "outputId": "f791fb64-c5bb-425b-8137-2b9339b999f0"
      },
      "outputs": [
        {
          "output_type": "stream",
          "name": "stdout",
          "text": [
            "Duration: 0.004083156585693359\n"
          ]
        }
      ],
      "source": [
        "print(\"Duration:\", duration)"
      ]
    },
    {
      "cell_type": "code",
      "execution_count": null,
      "metadata": {
        "id": "L6bCoY3jS-8l"
      },
      "outputs": [],
      "source": [
        "n_qubit = 2\n",
        "p = 1.0\n",
        "list_gates = [(\"H\", None, [0])]\n",
        "\n",
        "circuit = QuantumCircuit(n_qubit, list_gates)\n",
        "\n",
        "state, duration = circuit.simulate(p)"
      ]
    },
    {
      "cell_type": "code",
      "execution_count": null,
      "metadata": {
        "colab": {
          "base_uri": "https://localhost:8080/"
        },
        "id": "S3DZKrXgS_Dh",
        "outputId": "130a49d6-52d7-4ef2-c069-8f8f590f775f"
      },
      "outputs": [
        {
          "output_type": "execute_result",
          "data": {
            "text/plain": [
              "[[[[0.99999994+0.j 0.        +0.j]\n",
              "   [0.        +0.j 0.        +0.j]]\n",
              "\n",
              "  [[0.        +0.j 0.        +0.j]\n",
              "   [0.        +0.j 0.        +0.j]]]\n",
              "\n",
              "\n",
              " [[[0.        +0.j 0.        +0.j]\n",
              "   [0.        +0.j 0.        +0.j]]\n",
              "\n",
              "  [[0.        +0.j 0.        +0.j]\n",
              "   [0.        +0.j 0.        +0.j]]]]"
            ]
          },
          "metadata": {},
          "execution_count": 129
        }
      ],
      "source": [
        "state"
      ]
    },
    {
      "cell_type": "code",
      "execution_count": null,
      "metadata": {
        "colab": {
          "base_uri": "https://localhost:8080/"
        },
        "id": "1rygITXMZd4P",
        "outputId": "72fc6c5b-be26-4953-fa03-eb9db0f91b31"
      },
      "outputs": [
        {
          "output_type": "stream",
          "name": "stdout",
          "text": [
            "Trace of the state: (0.99999994+0j)\n"
          ]
        }
      ],
      "source": [
        "print(\"Trace of the state:\",trace(state.state))"
      ]
    },
    {
      "cell_type": "code",
      "execution_count": null,
      "metadata": {
        "colab": {
          "base_uri": "https://localhost:8080/"
        },
        "id": "q7XZtHauS_JT",
        "outputId": "4f6af7ef-16d4-4809-b738-c7f2d4ee83d1"
      },
      "outputs": [
        {
          "output_type": "stream",
          "name": "stdout",
          "text": [
            "Duration: 0.002275228500366211\n"
          ]
        }
      ],
      "source": [
        "print(\"Duration:\", duration)"
      ]
    },
    {
      "cell_type": "markdown",
      "metadata": {
        "id": "yTSWXyLz_QOS"
      },
      "source": [
        "**Test X gate**"
      ]
    },
    {
      "cell_type": "code",
      "execution_count": null,
      "metadata": {
        "id": "DG2dAUD6_TpJ"
      },
      "outputs": [],
      "source": [
        "n_qubit = 2\n",
        "p = 0.0\n",
        "list_gates = [(\"X\", None, [0])]\n",
        "\n",
        "circuit = QuantumCircuit(n_qubit, list_gates)\n",
        "\n",
        "state, duration = circuit.simulate(p)"
      ]
    },
    {
      "cell_type": "code",
      "execution_count": null,
      "metadata": {
        "colab": {
          "base_uri": "https://localhost:8080/"
        },
        "id": "4R3HD8dz_Trf",
        "outputId": "757e2958-5f51-4561-c174-982afe66eeeb"
      },
      "outputs": [
        {
          "output_type": "execute_result",
          "data": {
            "text/plain": [
              "[[[[0.+0.j 0.+0.j]\n",
              "   [0.+0.j 0.+0.j]]\n",
              "\n",
              "  [[0.+0.j 0.+0.j]\n",
              "   [0.+0.j 0.+0.j]]]\n",
              "\n",
              "\n",
              " [[[0.+0.j 0.+0.j]\n",
              "   [1.+0.j 0.+0.j]]\n",
              "\n",
              "  [[0.+0.j 0.+0.j]\n",
              "   [0.+0.j 0.+0.j]]]]"
            ]
          },
          "metadata": {},
          "execution_count": 133
        }
      ],
      "source": [
        "state"
      ]
    },
    {
      "cell_type": "code",
      "execution_count": null,
      "metadata": {
        "colab": {
          "base_uri": "https://localhost:8080/"
        },
        "id": "18gF73lx_Ttr",
        "outputId": "a5b74b40-f60a-423f-91ab-f1227ba4272d"
      },
      "outputs": [
        {
          "output_type": "stream",
          "name": "stdout",
          "text": [
            "Trace of the state: (1+0j)\n"
          ]
        }
      ],
      "source": [
        "print(\"Trace of the state:\",trace(state.state))"
      ]
    },
    {
      "cell_type": "code",
      "execution_count": null,
      "metadata": {
        "colab": {
          "base_uri": "https://localhost:8080/"
        },
        "id": "hWRWKF9Q_TwG",
        "outputId": "f4aac2ee-c990-43cf-f086-d1df9ca1fe31"
      },
      "outputs": [
        {
          "output_type": "stream",
          "name": "stdout",
          "text": [
            "Duration: 0.0006082057952880859\n"
          ]
        }
      ],
      "source": [
        "print(\"Duration:\", duration)"
      ]
    },
    {
      "cell_type": "code",
      "execution_count": null,
      "metadata": {
        "id": "E15Vn5X0_bfb"
      },
      "outputs": [],
      "source": [
        "n_qubit = 1\n",
        "p = 0.0\n",
        "list_gates = [(\"X\", None, [0])]\n",
        "\n",
        "circuit = QuantumCircuit(n_qubit, list_gates)\n",
        "\n",
        "state, duration = circuit.simulate(p)"
      ]
    },
    {
      "cell_type": "code",
      "execution_count": null,
      "metadata": {
        "colab": {
          "base_uri": "https://localhost:8080/"
        },
        "id": "8OcoKALu_biQ",
        "outputId": "8013ffbd-9ff4-4d6d-803c-b04ab879e343"
      },
      "outputs": [
        {
          "output_type": "execute_result",
          "data": {
            "text/plain": [
              "[[0.+0.j 0.+0.j]\n",
              " [0.+0.j 1.+0.j]]"
            ]
          },
          "metadata": {},
          "execution_count": 137
        }
      ],
      "source": [
        "state"
      ]
    },
    {
      "cell_type": "code",
      "execution_count": null,
      "metadata": {
        "colab": {
          "base_uri": "https://localhost:8080/"
        },
        "id": "9lVhLX8v_bk-",
        "outputId": "4136d7dc-f6f8-43e5-c8ab-f8bc984c6889"
      },
      "outputs": [
        {
          "output_type": "stream",
          "name": "stdout",
          "text": [
            "Trace of the state: (1+0j)\n"
          ]
        }
      ],
      "source": [
        "print(\"Trace of the state:\",trace(state.state))"
      ]
    },
    {
      "cell_type": "code",
      "execution_count": null,
      "metadata": {
        "colab": {
          "base_uri": "https://localhost:8080/"
        },
        "id": "a4goZwgb_bwN",
        "outputId": "44ed464e-34ac-4384-99b0-d4fdb0832054"
      },
      "outputs": [
        {
          "output_type": "stream",
          "name": "stdout",
          "text": [
            "Duration: 0.0016112327575683594\n"
          ]
        }
      ],
      "source": [
        "print(\"Duration:\", duration)"
      ]
    },
    {
      "cell_type": "markdown",
      "metadata": {
        "id": "MkPa_Z7oWupM"
      },
      "source": [
        "**Bell State Test**"
      ]
    },
    {
      "cell_type": "code",
      "execution_count": null,
      "metadata": {
        "id": "1ear_DLtW0SK"
      },
      "outputs": [],
      "source": [
        "n_qubit = 2\n",
        "p = 0.0\n",
        "list_gates = [(\"H\", None, [0]), (\"CNOT\", None, [0,1])]\n",
        "\n",
        "circuit = QuantumCircuit(n_qubit, list_gates)\n",
        "\n",
        "state, duration = circuit.simulate(p)"
      ]
    },
    {
      "cell_type": "code",
      "execution_count": null,
      "metadata": {
        "colab": {
          "base_uri": "https://localhost:8080/"
        },
        "id": "m19mwJIkW0YH",
        "outputId": "cf5e2103-2206-4f1a-daa3-c4e9a91d71ca"
      },
      "outputs": [
        {
          "output_type": "execute_result",
          "data": {
            "text/plain": [
              "array([[[[0.49999997+0.j, 0.        +0.j],\n",
              "         [0.        +0.j, 0.49999997+0.j]],\n",
              "\n",
              "        [[0.        +0.j, 0.        +0.j],\n",
              "         [0.        +0.j, 0.        +0.j]]],\n",
              "\n",
              "\n",
              "       [[[0.        +0.j, 0.        +0.j],\n",
              "         [0.        +0.j, 0.        +0.j]],\n",
              "\n",
              "        [[0.49999997+0.j, 0.        +0.j],\n",
              "         [0.        +0.j, 0.49999997+0.j]]]], dtype=complex64)"
            ]
          },
          "metadata": {},
          "execution_count": 141
        }
      ],
      "source": [
        "state.state"
      ]
    },
    {
      "cell_type": "code",
      "execution_count": null,
      "metadata": {
        "colab": {
          "base_uri": "https://localhost:8080/"
        },
        "id": "83Pc7XbOZfRb",
        "outputId": "9108cc09-624c-4bbc-b209-82682fc19176"
      },
      "outputs": [
        {
          "output_type": "stream",
          "name": "stdout",
          "text": [
            "Trace of the state: (0.99999994+0j)\n"
          ]
        }
      ],
      "source": [
        "print(\"Trace of the state:\",trace(state.state))"
      ]
    },
    {
      "cell_type": "code",
      "execution_count": null,
      "metadata": {
        "colab": {
          "base_uri": "https://localhost:8080/"
        },
        "id": "ZlAOA7CeW0cS",
        "outputId": "91e73481-08db-4325-d217-5b7cd912ca62"
      },
      "outputs": [
        {
          "output_type": "stream",
          "name": "stdout",
          "text": [
            "Duration: 0.00922393798828125\n"
          ]
        }
      ],
      "source": [
        "print(\"Duration:\", duration)"
      ]
    },
    {
      "cell_type": "code",
      "execution_count": null,
      "metadata": {
        "id": "6dpyXa5_W0fA"
      },
      "outputs": [],
      "source": [
        "n_qubit = 2\n",
        "p = 1.0\n",
        "list_gates = [(\"H\", None, [0]), (\"CNOT\", None, [0,1])]\n",
        "\n",
        "circuit = QuantumCircuit(n_qubit, list_gates)\n",
        "\n",
        "state, duration = circuit.simulate(p)"
      ]
    },
    {
      "cell_type": "code",
      "execution_count": null,
      "metadata": {
        "colab": {
          "base_uri": "https://localhost:8080/"
        },
        "id": "wO69ug3FXHIH",
        "outputId": "b68d0813-e8a2-44ad-d5a5-a7c46c6aa396"
      },
      "outputs": [
        {
          "output_type": "execute_result",
          "data": {
            "text/plain": [
              "[[[[0.99999994+0.j 0.        +0.j]\n",
              "   [0.        +0.j 0.        +0.j]]\n",
              "\n",
              "  [[0.        +0.j 0.        +0.j]\n",
              "   [0.        +0.j 0.        +0.j]]]\n",
              "\n",
              "\n",
              " [[[0.        +0.j 0.        +0.j]\n",
              "   [0.        +0.j 0.        +0.j]]\n",
              "\n",
              "  [[0.        +0.j 0.        +0.j]\n",
              "   [0.        +0.j 0.        +0.j]]]]"
            ]
          },
          "metadata": {},
          "execution_count": 145
        }
      ],
      "source": [
        "state"
      ]
    },
    {
      "cell_type": "code",
      "execution_count": null,
      "metadata": {
        "colab": {
          "base_uri": "https://localhost:8080/"
        },
        "id": "4SgWPuNqZgl2",
        "outputId": "aef45794-2467-4324-f6c1-3974f5a9d793"
      },
      "outputs": [
        {
          "output_type": "stream",
          "name": "stdout",
          "text": [
            "Trace of the state: (0.99999994+0j)\n"
          ]
        }
      ],
      "source": [
        "print(\"Trace of the state:\",trace(state.state))"
      ]
    },
    {
      "cell_type": "code",
      "execution_count": null,
      "metadata": {
        "colab": {
          "base_uri": "https://localhost:8080/"
        },
        "id": "4lBAWkUhXHK2",
        "outputId": "c92d69cf-ecc2-48ca-b909-2f34ef259b50"
      },
      "outputs": [
        {
          "output_type": "stream",
          "name": "stdout",
          "text": [
            "Duration: 0.0023665428161621094\n"
          ]
        }
      ],
      "source": [
        "print(\"Duration:\", duration)"
      ]
    },
    {
      "cell_type": "markdown",
      "metadata": {
        "id": "dpnyMfzGNvFe"
      },
      "source": [
        "## Randomized Benchmarking"
      ]
    },
    {
      "cell_type": "markdown",
      "metadata": {
        "id": "1EimdcyLXbJ9"
      },
      "source": [
        "**Test**"
      ]
    },
    {
      "cell_type": "code",
      "execution_count": null,
      "metadata": {
        "id": "7BeK8e_oNygT"
      },
      "outputs": [],
      "source": [
        "n_qubit = 1\n",
        "p = 0.0\n",
        "m = 1\n",
        "list_gates = [(\"X\", None, [0])]\n",
        "\n",
        "circuit = QuantumCircuit(n_qubit, list_gates)\n",
        "\n",
        "fidelity = circuit.benchmark(m, p)"
      ]
    },
    {
      "cell_type": "code",
      "execution_count": null,
      "metadata": {
        "colab": {
          "base_uri": "https://localhost:8080/"
        },
        "id": "qFj8uZ0VNyip",
        "outputId": "1ff16d5a-0e7f-4c61-d0e8-0a5a2362fd81"
      },
      "outputs": [
        {
          "output_type": "stream",
          "name": "stdout",
          "text": [
            "Fidelity for p = 0.0 : 1.0\n"
          ]
        }
      ],
      "source": [
        "print(\"Fidelity for p =\", p, \":\", fidelity)"
      ]
    },
    {
      "cell_type": "code",
      "execution_count": null,
      "metadata": {
        "id": "MB5zHMDRNymS"
      },
      "outputs": [],
      "source": [
        "n_qubit = 1\n",
        "p = 0.5\n",
        "m = 1\n",
        "list_gates = [(\"X\", None, [0])]\n",
        "\n",
        "circuit = QuantumCircuit(n_qubit, list_gates)\n",
        "\n",
        "fidelity = circuit.benchmark(m, p)"
      ]
    },
    {
      "cell_type": "code",
      "execution_count": null,
      "metadata": {
        "colab": {
          "base_uri": "https://localhost:8080/"
        },
        "id": "mhtBfnhwNy3G",
        "outputId": "d5248fde-0999-432e-ae1d-e36c8f364a18"
      },
      "outputs": [
        {
          "output_type": "stream",
          "name": "stdout",
          "text": [
            "Fidelity for p = 0.5 : 1.0\n"
          ]
        }
      ],
      "source": [
        "print(\"Fidelity for p =\", p, \":\", fidelity)"
      ]
    },
    {
      "cell_type": "markdown",
      "metadata": {
        "id": "S_efRLa-YTat"
      },
      "source": [
        "**Evolution as a Function of Depth for Depolarizing Noise**"
      ]
    },
    {
      "cell_type": "code",
      "execution_count": null,
      "metadata": {
        "id": "HAI0jNViYX8W"
      },
      "outputs": [],
      "source": [
        "dict_noise = [depolarizing]"
      ]
    },
    {
      "cell_type": "code",
      "source": [
        "def fidelity_fit(m, A, P, B):\n",
        "  return A * np.power(P, m) + B"
      ],
      "metadata": {
        "id": "0YkbCfjOc9HR"
      },
      "execution_count": null,
      "outputs": []
    },
    {
      "cell_type": "code",
      "execution_count": null,
      "metadata": {
        "colab": {
          "base_uri": "https://localhost:8080/"
        },
        "id": "hsfpGsIqYX-v",
        "outputId": "7733fcd4-87d1-4d25-9ad4-db2a79646504"
      },
      "outputs": [
        {
          "output_type": "stream",
          "name": "stderr",
          "text": [
            "100%|██████████| 10/10 [00:13<00:00,  1.36s/it]\n"
          ]
        }
      ],
      "source": [
        "n_repeat = 50\n",
        "n_qubit = 5\n",
        "circuit = QuantumCircuit(n_qubit)\n",
        "p = 0.1\n",
        "Xm = np.arange(5, 55, 5)\n",
        "\n",
        "fidelity_matrix = np.zeros((len(Xm), n_repeat))\n",
        "\n",
        "for m in tqdm(range(len(Xm))):\n",
        "  for k in range(n_repeat):\n",
        "    fidelity_matrix[m, k] = circuit.benchmark(Xm[m], p)\n",
        "\n",
        "fidelity_m = np.average(fidelity_matrix, axis = 1)"
      ]
    },
    {
      "cell_type": "code",
      "execution_count": null,
      "metadata": {
        "id": "XRHdEzIjYYCI",
        "colab": {
          "base_uri": "https://localhost:8080/",
          "height": 489
        },
        "outputId": "918fe36a-2804-4afa-b84b-704f712ff10f"
      },
      "outputs": [
        {
          "output_type": "execute_result",
          "data": {
            "text/plain": [
              "Text(0, 0.5, 'Depth')"
            ]
          },
          "metadata": {},
          "execution_count": 195
        },
        {
          "output_type": "display_data",
          "data": {
            "text/plain": [
              "<Figure size 640x480 with 1 Axes>"
            ],
            "image/png": "[encoded data removed]"
          },
          "metadata": {}
        }
      ],
      "source": [
        "A, P, B = curve_fit(fidelity_fit, Xm, fidelity_m)[0]\n",
        "XXm = np.linspace(5, 55, 100)\n",
        "\n",
        "plt.plot(Xm, fidelity_m, 'o-', label = \"Average fidelity\")\n",
        "plt.plot(XXm, fidelity_fit(XXm, A, P, B), '--', label = \"Fit\")\n",
        "plt.legend()\n",
        "plt.title(\"Evolution of the fidelity as a function of the depth - Depolarization\")\n",
        "plt.xlabel(\"Fidelity\")\n",
        "plt.ylabel(\"Depth\")"
      ]
    },
    {
      "cell_type": "code",
      "source": [
        "print(\"A = \", A)\n",
        "print(\"P = \", P)\n",
        "print(\"B = \", B)"
      ],
      "metadata": {
        "colab": {
          "base_uri": "https://localhost:8080/"
        },
        "id": "oE36bQCieWyG",
        "outputId": "59e262db-f0df-436e-a0d8-dbb87af959a9"
      },
      "execution_count": null,
      "outputs": [
        {
          "output_type": "stream",
          "name": "stdout",
          "text": [
            "A =  0.44202819834437956\n",
            "P =  0.9304089904614337\n",
            "B =  0.006113063330228894\n"
          ]
        }
      ]
    },
    {
      "cell_type": "markdown",
      "source": [
        "**Evolution as a Function of Depth for Relaxation**"
      ],
      "metadata": {
        "id": "_cyZ7KfjerlE"
      }
    },
    {
      "cell_type": "code",
      "execution_count": null,
      "metadata": {
        "id": "rLcZxeBSYYGL"
      },
      "outputs": [],
      "source": [
        "dict_noise = [relaxation]"
      ]
    },
    {
      "cell_type": "code",
      "source": [
        "n_repeat = 50\n",
        "n_qubit = 5\n",
        "circuit = QuantumCircuit(n_qubit)\n",
        "p = 0.05\n",
        "Xm = np.arange(5, 55, 5)\n",
        "\n",
        "fidelity_matrix = np.zeros((len(Xm), n_repeat))\n",
        "\n",
        "for m in tqdm(range(len(Xm))):\n",
        "  for k in range(n_repeat):\n",
        "    fidelity_matrix[m, k] = circuit.benchmark(Xm[m], p)\n",
        "\n",
        "fidelity_m = np.average(fidelity_matrix, axis = 1)"
      ],
      "metadata": {
        "colab": {
          "base_uri": "https://localhost:8080/"
        },
        "id": "arD9JBeZfAfr",
        "outputId": "a400d831-b33a-4bc5-bc16-22353954a7f6"
      },
      "execution_count": null,
      "outputs": [
        {
          "output_type": "stream",
          "name": "stderr",
          "text": [
            "100%|██████████| 10/10 [00:10<00:00,  1.07s/it]\n"
          ]
        }
      ]
    },
    {
      "cell_type": "code",
      "source": [
        "A, P, B = curve_fit(fidelity_fit, Xm, fidelity_m)[0]\n",
        "XXm = np.linspace(5, 55, 100)\n",
        "\n",
        "plt.plot(Xm, fidelity_m, 'o-', label = \"Average fidelity\")\n",
        "plt.plot(XXm, fidelity_fit(XXm, A, P, B), '--', label = \"Fit\")\n",
        "plt.legend()\n",
        "plt.title(\"Evolution of the fidelity as a function of the depth - Relaxation\")\n",
        "plt.xlabel(\"Fidelity\")\n",
        "plt.ylabel(\"Depth\")"
      ],
      "metadata": {
        "colab": {
          "base_uri": "https://localhost:8080/",
          "height": 489
        },
        "id": "vfhnO7zgfAh1",
        "outputId": "77d28832-139c-41f2-eb18-eb8ff963966f"
      },
      "execution_count": null,
      "outputs": [
        {
          "output_type": "execute_result",
          "data": {
            "text/plain": [
              "Text(0, 0.5, 'Depth')"
            ]
          },
          "metadata": {},
          "execution_count": 168
        },
        {
          "output_type": "display_data",
          "data": {
            "text/plain": [
              "<Figure size 640x480 with 1 Axes>"
            ],
            "image/png": "[encoded data removed]"
          },
          "metadata": {}
        }
      ]
    },
    {
      "cell_type": "code",
      "source": [
        "print(\"A = \", A)\n",
        "print(\"P = \", P)\n",
        "print(\"B = \", B)"
      ],
      "metadata": {
        "colab": {
          "base_uri": "https://localhost:8080/"
        },
        "id": "FNvQdYlgfAkU",
        "outputId": "b70f045a-e37d-41f4-c9e0-35fb47a5035e"
      },
      "execution_count": null,
      "outputs": [
        {
          "output_type": "stream",
          "name": "stdout",
          "text": [
            "A =  1.2481325631440823\n",
            "P =  0.9671173413059998\n",
            "B =  -0.14079850526287174\n"
          ]
        }
      ]
    },
    {
      "cell_type": "markdown",
      "source": [
        "**Evolution as a Function of Depth for Bit Flip & Pure Dephasing**"
      ],
      "metadata": {
        "id": "VrB7Cap6gBEn"
      }
    },
    {
      "cell_type": "code",
      "source": [
        "dict_noise = [pure_dephasing, bit_flip]"
      ],
      "metadata": {
        "id": "SFJU9tQgfAnV"
      },
      "execution_count": null,
      "outputs": []
    },
    {
      "cell_type": "code",
      "source": [
        "n_repeat = 50\n",
        "n_qubit = 5\n",
        "circuit = QuantumCircuit(n_qubit)\n",
        "p = 0.1\n",
        "Xm = np.arange(5, 55, 5)\n",
        "\n",
        "fidelity_matrix = np.zeros((len(Xm), n_repeat))\n",
        "\n",
        "for m in tqdm(range(len(Xm))):\n",
        "  for k in range(n_repeat):\n",
        "    fidelity_matrix[m, k] = circuit.benchmark(Xm[m], p)\n",
        "\n",
        "fidelity_m = np.average(fidelity_matrix, axis = 1)"
      ],
      "metadata": {
        "colab": {
          "base_uri": "https://localhost:8080/"
        },
        "id": "8tevkFXigJNk",
        "outputId": "cdb3bc08-8823-4bd3-9f8e-8f50ba426429"
      },
      "execution_count": null,
      "outputs": [
        {
          "output_type": "stream",
          "name": "stderr",
          "text": [
            "100%|██████████| 10/10 [00:13<00:00,  1.32s/it]\n"
          ]
        }
      ]
    },
    {
      "cell_type": "code",
      "source": [
        "A, P, B = curve_fit(fidelity_fit, Xm, fidelity_m)[0]\n",
        "XXm = np.linspace(5, 55, 100)\n",
        "\n",
        "plt.plot(Xm, fidelity_m, 'o-', label = \"Average fidelity\")\n",
        "plt.plot(XXm, fidelity_fit(XXm, A, P, B), '--', label = \"Fit\")\n",
        "plt.legend()\n",
        "plt.title(\"Evolution of the fidelity as a function of the depth - Bit Flip and Pure dephasing\")\n",
        "plt.xlabel(\"Fidelity\")\n",
        "plt.ylabel(\"Depth\")"
      ],
      "metadata": {
        "colab": {
          "base_uri": "https://localhost:8080/",
          "height": 489
        },
        "id": "hKMxfbBmgJSl",
        "outputId": "fdb9349e-4bf9-4604-b5ff-276b270ca209"
      },
      "execution_count": null,
      "outputs": [
        {
          "output_type": "execute_result",
          "data": {
            "text/plain": [
              "Text(0, 0.5, 'Depth')"
            ]
          },
          "metadata": {},
          "execution_count": 185
        },
        {
          "output_type": "display_data",
          "data": {
            "text/plain": [
              "<Figure size 640x480 with 1 Axes>"
            ],
            "image/png": "[encoded data removed]"
          },
          "metadata": {}
        }
      ]
    },
    {
      "cell_type": "code",
      "source": [
        "print(\"A = \", A)\n",
        "print(\"P = \", P)\n",
        "print(\"B = \", B)"
      ],
      "metadata": {
        "colab": {
          "base_uri": "https://localhost:8080/"
        },
        "id": "uW-p0SHmgJU-",
        "outputId": "c7cf2732-64f4-49e0-c389-2d9cd1b4a51f"
      },
      "execution_count": null,
      "outputs": [
        {
          "output_type": "stream",
          "name": "stdout",
          "text": [
            "A =  1.1444037240392975\n",
            "P =  0.9604637249768488\n",
            "B =  -0.009567272836320312\n"
          ]
        }
      ]
    },
    {
      "cell_type": "markdown",
      "source": [
        "**Relation between p and P**"
      ],
      "metadata": {
        "id": "X4DWoN8mhmA4"
      }
    },
    {
      "cell_type": "code",
      "source": [
        "dict_noise = [depolarizing]"
      ],
      "metadata": {
        "id": "DhCP3VQBgJXT"
      },
      "execution_count": null,
      "outputs": []
    },
    {
      "cell_type": "code",
      "source": [
        "n_repeat = 100\n",
        "n_qubit = 5\n",
        "circuit = QuantumCircuit(n_qubit)\n",
        "p_r = np.arange(0.01, 0.2, 0.01)\n",
        "Xm = np.arange(5, 55, 5)\n",
        "\n",
        "fidelity_matrix = np.zeros((len(p_r),len(Xm), n_repeat))\n",
        "\n",
        "for idx in tqdm(range(len(p_r))):\n",
        "  for m in range(len(Xm)):\n",
        "    for k in range(n_repeat):\n",
        "      fidelity_matrix[idx, m, k] = circuit.benchmark(Xm[m], p_r[idx])\n",
        "\n",
        "fidelity_pm = np.average(fidelity_matrix, axis = -1)"
      ],
      "metadata": {
        "colab": {
          "base_uri": "https://localhost:8080/"
        },
        "id": "484c5HeYgJZ6",
        "outputId": "391d65b2-195d-4c7a-8182-84c9a75753b4"
      },
      "execution_count": null,
      "outputs": [
        {
          "output_type": "stream",
          "name": "stderr",
          "text": [
            "100%|██████████| 19/19 [06:54<00:00, 21.80s/it]\n"
          ]
        }
      ]
    },
    {
      "cell_type": "code",
      "source": [
        "P_r = np.zeros(len(p_r))\n",
        "for idx in range(len(p_r)):\n",
        "  A, P_r[idx], B = curve_fit(fidelity_fit, Xm, fidelity_pm[idx])[0]\n",
        "plt.plot(p_r, P_r)"
      ],
      "metadata": {
        "colab": {
          "base_uri": "https://localhost:8080/",
          "height": 447
        },
        "id": "QzSH4zlqiPTX",
        "outputId": "458b5775-24d6-4a17-c6ea-af0d52d50f89"
      },
      "execution_count": null,
      "outputs": [
        {
          "output_type": "execute_result",
          "data": {
            "text/plain": [
              "[<matplotlib.lines.Line2D at 0x7e6af217f190>]"
            ]
          },
          "metadata": {},
          "execution_count": 203
        },
        {
          "output_type": "display_data",
          "data": {
            "text/plain": [
              "<Figure size 640x480 with 1 Axes>"
            ],
            "image/png": "[encoded data removed]"
          },
          "metadata": {}
        }
      ]
    }
  ],
  "metadata": {
    "colab": {
      "provenance": []
    },
    "kernelspec": {
      "display_name": "Python 3",
      "name": "python3"
    },
    "language_info": {
      "name": "python"
    }
  },
  "nbformat": 4,
  "nbformat_minor": 0
}